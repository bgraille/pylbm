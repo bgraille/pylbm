{
 "cells": [
  {
<<<<<<< HEAD
   "cell_type": "code",
   "execution_count": 1,
   "metadata": {},
   "outputs": [],
   "source": [
    "%matplotlib inline"
   ]
  },
  {
=======
>>>>>>> 1b60335a5d53c6e3e2de1bb1a140303f0bf8f351
   "cell_type": "markdown",
   "metadata": {},
   "source": [
    "# The heat equation in 2D\n",
    "\n",
    "$$\n",
    "\\renewcommand{\\DdQq}[2]{{\\mathrm D}_{#1}{\\mathrm Q}_{#2}}\n",
    "\\renewcommand{\\drondt}{\\partial_t}\n",
    "\\renewcommand{\\drondx}{\\partial_x}\n",
    "\\renewcommand{\\drondtt}{\\partial_{tt}}\n",
    "\\renewcommand{\\drondxx}{\\partial_{xx}}\n",
    "\\renewcommand{\\drondyy}{\\partial_{yy}}\n",
    "\\renewcommand{\\dx}{\\Delta x}\n",
    "\\renewcommand{\\dt}{\\Delta t}\n",
    "\\renewcommand{\\grandO}{{\\mathcal O}}\n",
    "\\renewcommand{\\density}[2]{\\,f_{#1}^{#2}}\n",
    "\\renewcommand{\\fk}[1]{\\density{#1}{\\vphantom{\\star}}}\n",
    "\\renewcommand{\\fks}[1]{\\density{#1}{\\star}}\n",
    "\\renewcommand{\\moment}[2]{\\,m_{#1}^{#2}}\n",
    "\\renewcommand{\\mk}[1]{\\moment{#1}{\\vphantom{\\star}}}\n",
    "\\renewcommand{\\mke}[1]{\\moment{#1}{e}}\n",
    "\\renewcommand{\\mks}[1]{\\moment{#1}{\\star}}\n",
    "$$\n",
    "\n",
    "In this tutorial, we test a very classical lattice Boltzmann scheme $\\DdQq{2}{5}$ on the heat equation.\n",
    "\n",
    "The problem reads\n",
    "$$\n",
    "\\begin{gathered} \\drondt u = \\mu (\\drondxx+\\drondyy) u, \\quad t>0, \\quad (x, y)\\in(0,1)^2,\\\\ u(0) = u(1) = 0, \\end{gathered}\n",
    "$$\n",
    "\n",
    "where $\\mu$ is a constant scalar."
   ]
  },
  {
   "cell_type": "code",
   "execution_count": 1,
   "metadata": {},
   "outputs": [],
   "source": [
    "%matplotlib inline"
   ]
  },
  {
   "cell_type": "markdown",
   "metadata": {},
   "source": [
    "## The scheme $\\DdQq{2}{5}$\n",
    "\n",
    "The numerical simulation of this equation by a lattice Boltzmann scheme consists in the approximatation of the solution on discret points of $(0,1)^2$ at discret instants.\n",
    "\n",
    "To simulate this system of equations, we use the $\\DdQq{2}{5}$ scheme given by\n",
    "\n",
    "* five velocities $v_0=(0,0)$, $v_1=(1,0)$, $v_2=(0,1)$, $v_3=(-1,0)$, and $v_4=(0,-1)$ with associated distribution functions $\\fk{i}$, $0\\leq i\\leq 4$,\n",
    "* a space step $\\dx$ and a time step $\\dt$, the ration $\\lambda=\\dx/\\dt$ is called the scheme velocity,\n",
    "* five moments\n",
    "  $$ \\mk{0}=\\sum_{i=0}^{4} \\fk{i}, \\quad \\mk{1}= \\sum_{i=0}^{4} v_{ix} \\fk{i}, \\quad \\mk{2}= \\sum_{i=0}^{4} v_{iy} \\fk{i}, \\quad \\mk{3}= \\frac{1}{2} \\sum_{i=0}^{5} (v_{ix}^2+v_{iy}^2) \\fk{i}, \\quad \\mk{4}= \\frac{1}{2} \\sum_{i=0}^{5} (v_{ix}^2-v_{iy}^2) \\fk{i},$$\n",
    "  \n",
    "  and their equilibrium values $\\mke{k}$, $0\\leq k\\leq 4$.\n",
    "* two relaxation parameters $s_1$ and $s_2$ lying in $[0,2]$ ($s_1$ for the odd moments and $s_2$ for the odd ones).\n",
    "\n",
    "In order to use the formalism of the package pylbm, we introduce the five polynomials that define the moments: $P_0 = 1$, $P_1=X$, $P_2=Y$, $P_3=(X^2+Y^2)/2$, and $P_4=(X^2-Y^2)/2$, such that\n",
    "$$ \n",
    "\\mk{k} = \\sum_{i=0}^4 P_k(v_{ix}, v_{iy}) \\fk{i}.\n",
    "$$\n",
    "\n",
    "The transformation $(\\fk{0}, \\fk{1}, \\fk{2}, \\fk{3}, \\fk{4})\\mapsto(\\mk{0},\\mk{1}, \\mk{2}, \\mk{3}, \\mk{4})$ is invertible if, and only if, the polynomials $(P_0,P_1,P_2,P_3,P_4)$ is a free set over the stencil of velocities.\n",
    "\n",
    "The lattice Boltzmann method consists to compute the distribution functions $\\fk{i}$, $0\\leq i\\leq 4$ in each point of the lattice $x$ and at each time $t^n=n\\dt$.\n",
    "A step of the scheme can be read as a splitting between the relaxation phase and the transport phase:\n",
    "\n",
    "* relaxation: \n",
    "$$\n",
    "    \\begin{aligned}\\mks{1}(t,x,y)&=(1-s_1)\\mk{1}(t,x,y)+s_1\\mke{1}(t,x,y),\\\\ \\mks{2}(t,x,y)&=(1-s_1)\\mk{2}(t,x,y)+s_1\\mke{2}(t,x,y),\\\\ \\mks{3}(t,x,y)&=(1-s_2)\\mk{3}(t,x,y)+s_2\\mke{3}(t,x,y),\\\\ \\mks{4}(t,x,y)&=(1-s_2)\\mk{4}(t,x,y)+s_2\\mke{4}(t,x,y).\\end{aligned}\n",
    "$$\n",
    "\n",
    "* m2f:\n",
    "$$\n",
    "    \\begin{aligned}\\fks{0}(t,x,y)&\\;=\\mk{0}(t,x,y)-2\\mks{3}(t,x,y), \\\\ \\fks{1}(t,x,y)&\\;=\\tfrac{1}{2}(\\phantom{-}\\mks{1}(t,x,y)+\\mks{3}(t,x,y)+\\mks{4}(t,x,y)), \\\\ \\fks{2}(t,x,y)&\\;=\\tfrac{1}{2}(\\phantom{-}\\mks{2}(t,x,y)+\\mks{3}(t,x,y)-\\mks{4}(t,x,y)), \\\\ \\fks{3}(t,x,y)&\\;=\\tfrac{1}{2}(-\\mks{1}(t,x,y)+\\mks{3}(t,x,y)+\\mks{4}(t,x,y)), \\\\ \\fks{4}(t,x,y)&\\;=\\tfrac{1}{2}(-\\mks{2}(t,x,y)+\\mks{3}(t,x,y)-\\mks{4}(t,x,y)).\\end{aligned}\n",
    "$$\n",
    "\n",
    "* transport: \n",
    "$$\n",
    "    \\begin{aligned} \\fk{0}(t+\\dt, x,y)&\\;=\\fks{0}(t,x,y), \\\\ \\fk{1}(t+\\dt, x,y)&\\;=\\fks{1}(t,x-\\dx,y), \\\\ \\fk{2}(t+\\dt, x,y)&\\;=\\fks{2}(t,x,y-\\dx), \\\\ \\fk{3}(t+\\dt, x,y)&\\;=\\fks{3}(t,x+\\dx,y), \\\\ \\fk{4}(t+\\dt, x,y)&\\;=\\fks{4}(t,x,y+\\dx). \\end{aligned}\n",
    "$$\n",
    "\n",
    "* f2m:\n",
    "$$\n",
    "    \\begin{aligned}\\mk{0}(t+\\dt,x,y)&\\;=\\fk{0}(t+\\dt,x,y)+\\fk{1}(t+\\dt,x,y)+\\fk{2}(t+\\dt,x,y)\\\\&\\;\\phantom{=}+\\fk{3}(t+\\dt,x,y)+\\fk{4}(t+\\dt,x,y), \\\\ \\mk{1}(t+\\dt,x,y)&\\;=\\fk{1}(t+\\dt,x,y)-\\fk{3}(t+\\dt,x,y), \\\\ \\mk{2}(t+\\dt,x,y)&\\;=\\fk{2}(t+\\dt,x,y)-\\fk{4}(t+\\dt,x,y), \\\\ \\mk{3}(t+\\dt,x,y)&\\;=\\tfrac{1}{2}(\\fk{1}(t+\\dt,x,y)+\\fk{2}(t+\\dt,x,y)+\\fk{3}(t+\\dt,x,y)+\\fk{4}(t+\\dt,x,y)), \\\\ \\mk{4}(t+\\dt,x,y)&\\;=\\tfrac{1}{2}(\\fk{1}(t+\\dt,x,y)-\\fk{2}(t+\\dt,x,y)+\\fk{3}(t+\\dt,x,y)-\\fk{4}(t+\\dt,x,y)).\\end{aligned}\n",
    "$$\n",
    "\n",
    "The moment of order $0$, $\\mk{0}$, being conserved during the relaxation phase, \n",
    "a diffusive scaling $\\dt=\\dx^2$, yields to the following equivalent equation\n",
    "$$\n",
    "\\drondt\\mk{0} = \\bigl(\\tfrac{1}{s_1}-\\tfrac{1}{2}\\bigr) \\bigl(\\drondxx(\\mke{3}+\\mke{4})+\\drondyy(\\mke{3}-\\mke{4})\\bigr) + \\grandO(\\dx^2),\n",
    "$$\n",
    "\n",
    "if $\\mke{1}=0$.\n",
    "In order to be consistent with the heat equation, the following choice is done:\n",
    "$$\n",
    "\\mke{3}=\\tfrac{1}{2}u, \\qquad \\mke{4}=0, \\qquad s_1 = \\frac{2}{1+4\\mu}, \\qquad s_2=1.\n",
    "$$\n"
   ]
  },
  {
   "cell_type": "markdown",
   "metadata": {},
   "source": [
    "## Using pylbm\n",
<<<<<<< HEAD
    "\n",
    "pylbm uses Python dictionary to describe the simulation. In the following, we will build this dictionary step by step.\n",
=======
>>>>>>> 1b60335a5d53c6e3e2de1bb1a140303f0bf8f351
    "\n",
    "pylbm uses Python dictionary to describe the simulation. In the following, we will build this dictionary step by step."
   ]
  },
  {
   "cell_type": "code",
   "execution_count": 1,
   "metadata": {},
   "outputs": [],
   "source": [
    "import pylbm\n",
    "import numpy as np"
   ]
  },
  {
   "cell_type": "markdown",
   "metadata": {},
   "source": [
    "### The geometry\n",
    "\n",
    "In pylbm, the geometry is defined by a box and a label for the boundaries. We define here a square $(0, 1)^2$."
   ]
  },
  {
   "cell_type": "code",
   "execution_count": 2,
   "metadata": {},
   "outputs": [
    {
     "name": "stdout",
     "output_type": "stream",
     "text": [
      "+----------------------+\n",
      "| Geometry information |\n",
      "+----------------------+\n",
      "    - spatial dimension: 2\n",
      "    - bounds of the box: [0. 1.] x [0. 1.]\n",
      "    - labels: [0, 0, 0, 0]\n"
     ]
    },
    {
     "data": {
<<<<<<< HEAD
      "image/png": "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\n",
=======
      "image/png": "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\n",
>>>>>>> 1b60335a5d53c6e3e2de1bb1a140303f0bf8f351
      "text/plain": [
       "<Figure size 432x288 with 1 Axes>"
      ]
     },
     "metadata": {
      "needs_background": "light"
     },
     "output_type": "display_data"
    }
   ],
   "source": [
<<<<<<< HEAD
    "import pylbm\n",
    "import numpy as np\n",
    "import pylab as plt\n",
=======
>>>>>>> 1b60335a5d53c6e3e2de1bb1a140303f0bf8f351
    "xmin, xmax, ymin, ymax = 0., 1., 0., 1.\n",
    "dico_geom = {\n",
    "    'box': {'x': [xmin, xmax], \n",
    "            'y': [ymin, ymax], \n",
    "            'label': 0\n",
    "           },\n",
    "}\n",
    "geom = pylbm.Geometry(dico_geom)\n",
    "print(geom)\n",
    "geom.visualize(viewlabel=True);"
   ]
  },
  {
   "cell_type": "markdown",
   "metadata": {},
   "source": [
    "### The stencil\n",
    "\n",
    "pylbm provides a class stencil that is used to define the discret velocities of the scheme. In this example, the stencil is composed by the velocities $v_0=(0,0)$, $v_1=(1,0)$, $v_2=(-1,0)$, $v_3=(0,1)$, and $v_4=(0,-1)$ numbered by $[0,1,2,3,4]$."
   ]
  },
  {
   "cell_type": "code",
   "execution_count": 3,
   "metadata": {},
   "outputs": [
    {
     "name": "stdout",
     "output_type": "stream",
     "text": [
      "+---------------------+\n",
      "| Stencil information |\n",
      "+---------------------+\n",
      "    - spatial dimension: 2\n",
      "    - minimal velocity in each direction: [-1 -1]\n",
      "    - maximal velocity in each direction: [1 1]\n",
      "    - information for each elementary stencil:\n",
      "        stencil 0\n",
      "            - number of velocities: 5\n",
      "            - velocities\n",
      "                (0: 0, 0)\n",
      "                (1: 1, 0)\n",
      "                (2: 0, 1)\n",
      "                (3: -1, 0)\n",
      "                (4: 0, -1)\n"
     ]
    },
    {
     "data": {
<<<<<<< HEAD
      "image/png": "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\n",
=======
      "image/png": "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\n",
>>>>>>> 1b60335a5d53c6e3e2de1bb1a140303f0bf8f351
      "text/plain": [
       "<Figure size 360x360 with 1 Axes>"
      ]
     },
     "metadata": {
      "needs_background": "light"
     },
     "output_type": "display_data"
    }
   ],
   "source": [
    "dico_sten = {\n",
    "    'dim':2,\n",
    "    'schemes': [\n",
    "        {'velocities': list(range(5))}\n",
    "    ],\n",
    "}\n",
    "sten = pylbm.Stencil(dico_sten)\n",
    "print(sten)\n",
    "sten.visualize();"
   ]
  },
  {
   "cell_type": "markdown",
   "metadata": {},
   "source": [
    "### The domain\n",
    "\n",
    "In order to build the domain of the simulation, the dictionary should contain the space step $\\dx$ and the stencils of the velocities (one for each scheme). \n",
    "\n",
    "We construct a domain with $N=10$ points in space. "
   ]
  },
  {
   "cell_type": "code",
   "execution_count": 4,
   "metadata": {},
   "outputs": [
    {
     "name": "stdout",
     "output_type": "stream",
     "text": [
      "+--------------------+\n",
      "| Domain information |\n",
      "+--------------------+\n",
      "    - spatial dimension: 2\n",
      "    - space step: 0.1\n",
      "    - with halo:\n",
      "        bounds of the box: [-0.05 -0.05] x [1.05 1.05]\n",
      "        number of points: [12, 12]\n",
      "    - without halo:\n",
      "        bounds of the box: [0.05 0.05] x [0.95 0.95]\n",
      "        number of points: [10, 10]\n",
      "        \n",
      "    +----------------------+\n",
      "    | Geometry information |\n",
      "    +----------------------+\n",
      "        - spatial dimension: 2\n",
      "        - bounds of the box: [0. 1.] x [0. 1.]\n",
      "        - labels: [0, 0, 0, 0]\n"
     ]
    },
    {
     "data": {
<<<<<<< HEAD
      "image/png": "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\n",
=======
      "image/png": "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\n",
>>>>>>> 1b60335a5d53c6e3e2de1bb1a140303f0bf8f351
      "text/plain": [
       "<Figure size 432x288 with 1 Axes>"
      ]
     },
     "metadata": {
      "needs_background": "light"
     },
     "output_type": "display_data"
    }
   ],
   "source": [
    "N = 10\n",
    "dx = (xmax-xmin)/N\n",
    "dico_dom = {\n",
    "    'box': {'x': [xmin, xmax], \n",
    "            'y': [ymin, ymax], \n",
    "            'label': 0\n",
    "           },\n",
    "    'space_step': dx,\n",
    "    'schemes': [\n",
    "        {'velocities': list(range(5)),}\n",
    "    ],\n",
    "}\n",
    "dom = pylbm.Domain(dico_dom)\n",
    "print(dom)\n",
    "dom.visualize(view_distance=True);"
   ]
  },
  {
   "cell_type": "markdown",
   "metadata": {},
   "source": [
    "### The scheme\n",
    "\n",
    "In pylbm, a simulation can be performed by using several coupled schemes. In this example, a single scheme is used and defined through a list of one single dictionary. This dictionary should contain:\n",
    "\n",
    "* 'velocities': a list of the velocities\n",
    "* 'conserved_moments': a list of the conserved moments as sympy variables\n",
    "* 'polynomials': a list of the polynomials that define the moments\n",
    "* 'equilibrium': a list of the equilibrium value of all the moments\n",
    "* 'relaxation_parameters': a list of the relaxation parameters ($0$ for the conserved moments)\n",
    "* 'init': a dictionary to initialize the conserved moments\n",
    "\n",
    "(see the documentation for more details)\n",
    "\n",
    "The scheme velocity could be taken to $1/\\dx$ and the inital value of $u$ to \n",
    "\n",
    "$$ u(t=0,x) = \\sin(\\pi x)\\sin(\\pi y).$$"
   ]
  },
  {
   "cell_type": "code",
   "execution_count": 5,
   "metadata": {},
   "outputs": [
    {
     "name": "stdout",
     "output_type": "stream",
     "text": [
      "+--------------------+\n",
      "| Scheme information |\n",
      "+--------------------+\n",
      "    - spatial dimension: 2\n",
      "    - number of schemes: 1\n",
      "    - number of velocities: 5\n",
      "    - conserved moments: [u]\n",
      "        \n",
      "    +----------+\n",
      "    | Scheme 0 |\n",
      "    +----------+\n",
      "        - velocities\n",
      "            (0: 0, 0)\n",
      "            (1: 1, 0)\n",
      "            (2: 0, 1)\n",
      "            (3: -1, 0)\n",
      "            (4: 0, -1)\n",
      "\n",
      "        - polynomials\n",
      "                    \n",
      "            ⎡   1   ⎤\n",
      "            ⎢       ⎥\n",
<<<<<<< HEAD
      "            ⎢  X    ⎥\n",
      "            ⎢  ──   ⎥\n",
      "            ⎢  LA   ⎥\n",
      "            ⎢       ⎥\n",
      "            ⎢  Y    ⎥\n",
      "            ⎢  ──   ⎥\n",
      "            ⎢  LA   ⎥\n",
      "            ⎢       ⎥\n",
      "            ⎢ 2    2⎥\n",
      "            ⎢X  + Y ⎥\n",
      "            ⎢───────⎥\n",
      "            ⎢     2 ⎥\n",
      "            ⎢ 2⋅LA  ⎥\n",
      "            ⎢       ⎥\n",
      "            ⎢ 2    2⎥\n",
      "            ⎢X  - Y ⎥\n",
      "            ⎢───────⎥\n",
      "            ⎢     2 ⎥\n",
      "            ⎣ 2⋅LA  ⎦\n",
=======
      "            ⎢   X   ⎥\n",
      "            ⎢       ⎥\n",
      "            ⎢   Y   ⎥\n",
      "            ⎢       ⎥\n",
      "            ⎢ 2    2⎥\n",
      "            ⎢X    Y ⎥\n",
      "            ⎢── + ──⎥\n",
      "            ⎢2    2 ⎥\n",
      "            ⎢       ⎥\n",
      "            ⎢ 2    2⎥\n",
      "            ⎢X    Y ⎥\n",
      "            ⎢── - ──⎥\n",
      "            ⎣2    2 ⎦\n",
>>>>>>> 1b60335a5d53c6e3e2de1bb1a140303f0bf8f351
      "\n",
      "        - equilibria\n",
      "                    \n",
      "            ⎡  u  ⎤\n",
      "            ⎢     ⎥\n",
      "            ⎢ 0.0 ⎥\n",
      "            ⎢     ⎥\n",
      "            ⎢ 0.0 ⎥\n",
      "            ⎢     ⎥\n",
      "            ⎢0.5⋅u⎥\n",
      "            ⎢     ⎥\n",
      "            ⎣ 0.0 ⎦\n",
      "\n",
      "        - relaxation parameters\n",
      "                    \n",
      "            ⎡0.0⎤\n",
      "            ⎢   ⎥\n",
      "            ⎢0.4⎥\n",
      "            ⎢   ⎥\n",
      "            ⎢0.4⎥\n",
      "            ⎢   ⎥\n",
      "            ⎢1.0⎥\n",
      "            ⎢   ⎥\n",
      "            ⎣1.0⎦\n",
      "\n",
      "    - moments matrices\n",
      "                \n",
<<<<<<< HEAD
      "        ⎡1   1    1     1     1  ⎤\n",
      "        ⎢                        ⎥\n",
      "        ⎢   10         -10       ⎥\n",
      "        ⎢0  ──    0    ────   0  ⎥\n",
      "        ⎢   LA          LA       ⎥\n",
      "        ⎢                        ⎥\n",
      "        ⎢         10         -10 ⎥\n",
      "        ⎢0   0    ──    0    ────⎥\n",
      "        ⎢         LA          LA ⎥\n",
      "        ⎢                        ⎥\n",
      "        ⎢    50   50    50    50 ⎥\n",
      "        ⎢0  ───  ───   ───   ─── ⎥\n",
      "        ⎢     2    2     2     2 ⎥\n",
      "        ⎢   LA   LA    LA    LA  ⎥\n",
      "        ⎢                        ⎥\n",
      "        ⎢    50  -50    50   -50 ⎥\n",
      "        ⎢0  ───  ────  ───   ────⎥\n",
      "        ⎢     2    2     2     2 ⎥\n",
      "        ⎣   LA   LA    LA    LA  ⎦\n",
      "\n",
      "    - inverse of moments matrices\n",
      "                \n",
      "        ⎡                  2        ⎤\n",
      "        ⎢               -LA         ⎥\n",
      "        ⎢1   0     0    ─────    0  ⎥\n",
      "        ⎢                 50        ⎥\n",
      "        ⎢                           ⎥\n",
      "        ⎢                  2      2 ⎥\n",
      "        ⎢    LA          LA     LA  ⎥\n",
      "        ⎢0   ──    0     ───    ─── ⎥\n",
      "        ⎢    20          200    200 ⎥\n",
      "        ⎢                           ⎥\n",
      "        ⎢                  2      2 ⎥\n",
      "        ⎢          LA    LA    -LA  ⎥\n",
      "        ⎢0   0     ──    ───   ─────⎥\n",
      "        ⎢          20    200    200 ⎥\n",
      "        ⎢                           ⎥\n",
      "        ⎢                  2      2 ⎥\n",
      "        ⎢   -LA          LA     LA  ⎥\n",
      "        ⎢0  ────   0     ───    ─── ⎥\n",
      "        ⎢    20          200    200 ⎥\n",
      "        ⎢                           ⎥\n",
      "        ⎢                  2      2 ⎥\n",
      "        ⎢         -LA    LA    -LA  ⎥\n",
      "        ⎢0   0    ────   ───   ─────⎥\n",
      "        ⎣          20    200    200 ⎦\n",
=======
      "        ⎡1   1    1     1    1  ⎤\n",
      "        ⎢                       ⎥\n",
      "        ⎢0   1    0    -1    0  ⎥\n",
      "        ⎢                       ⎥\n",
      "        ⎢0   0    1     0    -1 ⎥\n",
      "        ⎢                       ⎥\n",
      "        ⎢0  1/2  1/2   1/2  1/2 ⎥\n",
      "        ⎢                       ⎥\n",
      "        ⎣0  1/2  -1/2  1/2  -1/2⎦\n",
      "\n",
      "    - inverse of moments matrices\n",
      "                \n",
      "        ⎡1   0     0    -2    0  ⎤\n",
      "        ⎢                        ⎥\n",
      "        ⎢0  1/2    0    1/2  1/2 ⎥\n",
      "        ⎢                        ⎥\n",
      "        ⎢0   0    1/2   1/2  -1/2⎥\n",
      "        ⎢                        ⎥\n",
      "        ⎢0  -1/2   0    1/2  1/2 ⎥\n",
      "        ⎢                        ⎥\n",
      "        ⎣0   0    -1/2  1/2  -1/2⎦\n",
>>>>>>> 1b60335a5d53c6e3e2de1bb1a140303f0bf8f351
      "\n",
      "    \n"
     ]
    }
   ],
   "source": [
    "import sympy as sp\n",
    "\n",
    "def solution(x, y, t):\n",
    "    return np.sin(np.pi*x)*np.sin(np.pi*y)*np.exp(-2*np.pi**2*mu*t)\n",
    "\n",
    "# parameters\n",
    "mu = 1.\n",
    "s1 = 2./(1+4*mu)\n",
    "s2 = 1.\n",
    "u, X, Y, LA = sp.symbols('u, X, Y, LA')\n",
    "\n",
    "dico_sch = {\n",
    "    'dim': 2,\n",
<<<<<<< HEAD
    "    'scheme_velocity': la,\n",
=======
    "    'lattice_diffusivity': 1,\n",
>>>>>>> 1b60335a5d53c6e3e2de1bb1a140303f0bf8f351
    "    'schemes': [\n",
    "        {\n",
    "            'velocities': list(range(5)),\n",
    "            'conserved_moments': u,\n",
<<<<<<< HEAD
    "            'polynomials': [1, X/LA, Y/LA, (X**2+Y**2)/(2*LA**2), (X**2-Y**2)/(2*LA**2)],\n",
=======
    "            'polynomials': [1, X, Y, (X**2+Y**2)/2, (X**2-Y**2)/2],\n",
>>>>>>> 1b60335a5d53c6e3e2de1bb1a140303f0bf8f351
    "            'equilibrium': [u, 0., 0., .5*u, 0.],\n",
    "            'relaxation_parameters': [0., s1, s1, s2, s2],\n",
    "        }\n",
    "    ],\n",
    "    'parameters': {LA: la},\n",
    "}\n",
    "\n",
    "sch = pylbm.Scheme(dico_sch)\n",
    "print(sch)"
   ]
  },
  {
   "cell_type": "markdown",
   "metadata": {},
   "source": [
    "### The simulation\n",
    "\n",
    "A simulation is built by defining a correct dictionary.\n",
    "\n",
    "We combine the previous dictionaries to build a simulation. In order to impose the homogeneous Dirichlet conditions in $x=0$, $x=1$, $y=0$, and $y=1$, the dictionary should contain the key 'boundary_conditions' (we use pylbm.bc.Anti_bounce_back function)."
   ]
  },
  {
   "cell_type": "code",
   "execution_count": 6,
   "metadata": {},
   "outputs": [
    {
     "name": "stdout",
     "output_type": "stream",
     "text": [
      "+------------------------+\n",
      "| Simulation information |\n",
      "+------------------------+\n",
      "        \n",
      "    +--------------------+\n",
      "    | Domain information |\n",
      "    +--------------------+\n",
      "        - spatial dimension: 2\n",
      "        - space step: 0.1\n",
      "        - with halo:\n",
      "            bounds of the box: [-0.05 -0.05] x [1.05 1.05]\n",
      "            number of points: [12, 12]\n",
      "        - without halo:\n",
      "            bounds of the box: [0.05 0.05] x [0.95 0.95]\n",
      "            number of points: [10, 10]\n",
      "            \n",
      "        +----------------------+\n",
      "        | Geometry information |\n",
      "        +----------------------+\n",
      "            - spatial dimension: 2\n",
      "            - bounds of the box: [0. 1.] x [0. 1.]\n",
      "            - labels: [0, 0, 0, 0]\n",
      "        \n",
      "    +--------------------+\n",
      "    | Scheme information |\n",
      "    +--------------------+\n",
      "        - spatial dimension: 2\n",
      "        - number of schemes: 1\n",
      "        - number of velocities: 5\n",
      "        - conserved moments: [u]\n",
      "            \n",
      "        +----------+\n",
      "        | Scheme 0 |\n",
      "        +----------+\n",
      "            - velocities\n",
      "                (0: 0, 0)\n",
      "                (1: 1, 0)\n",
      "                (2: 0, 1)\n",
      "                (3: -1, 0)\n",
      "                (4: 0, -1)\n",
      "\n",
      "            - polynomials\n",
      "                        \n",
      "                ⎡   1   ⎤\n",
      "                ⎢       ⎥\n",
<<<<<<< HEAD
      "                ⎢  X    ⎥\n",
      "                ⎢  ──   ⎥\n",
      "                ⎢  LA   ⎥\n",
      "                ⎢       ⎥\n",
      "                ⎢  Y    ⎥\n",
      "                ⎢  ──   ⎥\n",
      "                ⎢  LA   ⎥\n",
      "                ⎢       ⎥\n",
      "                ⎢ 2    2⎥\n",
      "                ⎢X  + Y ⎥\n",
      "                ⎢───────⎥\n",
      "                ⎢     2 ⎥\n",
      "                ⎢ 2⋅LA  ⎥\n",
      "                ⎢       ⎥\n",
      "                ⎢ 2    2⎥\n",
      "                ⎢X  - Y ⎥\n",
      "                ⎢───────⎥\n",
      "                ⎢     2 ⎥\n",
      "                ⎣ 2⋅LA  ⎦\n",
=======
      "                ⎢   X   ⎥\n",
      "                ⎢       ⎥\n",
      "                ⎢   Y   ⎥\n",
      "                ⎢       ⎥\n",
      "                ⎢ 2    2⎥\n",
      "                ⎢X    Y ⎥\n",
      "                ⎢── + ──⎥\n",
      "                ⎢2    2 ⎥\n",
      "                ⎢       ⎥\n",
      "                ⎢ 2    2⎥\n",
      "                ⎢X    Y ⎥\n",
      "                ⎢── - ──⎥\n",
      "                ⎣2    2 ⎦\n",
>>>>>>> 1b60335a5d53c6e3e2de1bb1a140303f0bf8f351
      "\n",
      "            - equilibria\n",
      "                        \n",
      "                ⎡  u  ⎤\n",
      "                ⎢     ⎥\n",
      "                ⎢ 0.0 ⎥\n",
      "                ⎢     ⎥\n",
      "                ⎢ 0.0 ⎥\n",
      "                ⎢     ⎥\n",
      "                ⎢0.5⋅u⎥\n",
      "                ⎢     ⎥\n",
      "                ⎣ 0.0 ⎦\n",
      "\n",
      "            - relaxation parameters\n",
      "                        \n",
      "                ⎡0.0⎤\n",
      "                ⎢   ⎥\n",
      "                ⎢0.4⎥\n",
      "                ⎢   ⎥\n",
      "                ⎢0.4⎥\n",
      "                ⎢   ⎥\n",
      "                ⎢1.0⎥\n",
      "                ⎢   ⎥\n",
      "                ⎣1.0⎦\n",
      "\n",
      "        - moments matrices\n",
      "                    \n",
<<<<<<< HEAD
      "            ⎡1   1    1     1     1  ⎤\n",
      "            ⎢                        ⎥\n",
      "            ⎢   10         -10       ⎥\n",
      "            ⎢0  ──    0    ────   0  ⎥\n",
      "            ⎢   LA          LA       ⎥\n",
      "            ⎢                        ⎥\n",
      "            ⎢         10         -10 ⎥\n",
      "            ⎢0   0    ──    0    ────⎥\n",
      "            ⎢         LA          LA ⎥\n",
      "            ⎢                        ⎥\n",
      "            ⎢    50   50    50    50 ⎥\n",
      "            ⎢0  ───  ───   ───   ─── ⎥\n",
      "            ⎢     2    2     2     2 ⎥\n",
      "            ⎢   LA   LA    LA    LA  ⎥\n",
      "            ⎢                        ⎥\n",
      "            ⎢    50  -50    50   -50 ⎥\n",
      "            ⎢0  ───  ────  ───   ────⎥\n",
      "            ⎢     2    2     2     2 ⎥\n",
      "            ⎣   LA   LA    LA    LA  ⎦\n",
      "\n",
      "        - inverse of moments matrices\n",
      "                    \n",
      "            ⎡                  2        ⎤\n",
      "            ⎢               -LA         ⎥\n",
      "            ⎢1   0     0    ─────    0  ⎥\n",
      "            ⎢                 50        ⎥\n",
      "            ⎢                           ⎥\n",
      "            ⎢                  2      2 ⎥\n",
      "            ⎢    LA          LA     LA  ⎥\n",
      "            ⎢0   ──    0     ───    ─── ⎥\n",
      "            ⎢    20          200    200 ⎥\n",
      "            ⎢                           ⎥\n",
      "            ⎢                  2      2 ⎥\n",
      "            ⎢          LA    LA    -LA  ⎥\n",
      "            ⎢0   0     ──    ───   ─────⎥\n",
      "            ⎢          20    200    200 ⎥\n",
      "            ⎢                           ⎥\n",
      "            ⎢                  2      2 ⎥\n",
      "            ⎢   -LA          LA     LA  ⎥\n",
      "            ⎢0  ────   0     ───    ─── ⎥\n",
      "            ⎢    20          200    200 ⎥\n",
      "            ⎢                           ⎥\n",
      "            ⎢                  2      2 ⎥\n",
      "            ⎢         -LA    LA    -LA  ⎥\n",
      "            ⎢0   0    ────   ───   ─────⎥\n",
      "            ⎣          20    200    200 ⎦\n",
=======
      "            ⎡1   1    1     1    1  ⎤\n",
      "            ⎢                       ⎥\n",
      "            ⎢0   1    0    -1    0  ⎥\n",
      "            ⎢                       ⎥\n",
      "            ⎢0   0    1     0    -1 ⎥\n",
      "            ⎢                       ⎥\n",
      "            ⎢0  1/2  1/2   1/2  1/2 ⎥\n",
      "            ⎢                       ⎥\n",
      "            ⎣0  1/2  -1/2  1/2  -1/2⎦\n",
      "\n",
      "        - inverse of moments matrices\n",
      "                    \n",
      "            ⎡1   0     0    -2    0  ⎤\n",
      "            ⎢                        ⎥\n",
      "            ⎢0  1/2    0    1/2  1/2 ⎥\n",
      "            ⎢                        ⎥\n",
      "            ⎢0   0    1/2   1/2  -1/2⎥\n",
      "            ⎢                        ⎥\n",
      "            ⎢0  -1/2   0    1/2  1/2 ⎥\n",
      "            ⎢                        ⎥\n",
      "            ⎣0   0    -1/2  1/2  -1/2⎦\n",
>>>>>>> 1b60335a5d53c6e3e2de1bb1a140303f0bf8f351
      "\n",
      "        \n"
     ]
    }
   ],
   "source": [
    "dico = {\n",
    "    'box': {'x': [xmin, xmax],\n",
    "            'y': [ymin, ymax],\n",
    "            'label': 0},\n",
    "    'space_step': dx,\n",
<<<<<<< HEAD
    "    'scheme_velocity': la,\n",
=======
    "    'lattice_diffusivity': 1,\n",
>>>>>>> 1b60335a5d53c6e3e2de1bb1a140303f0bf8f351
    "    'schemes': [\n",
    "        {\n",
    "            'velocities': list(range(5)),\n",
    "            'conserved_moments': u,\n",
<<<<<<< HEAD
    "            'polynomials': [1, X/LA, Y/LA, (X**2+Y**2)/(2*LA**2), (X**2-Y**2)/(2*LA**2)],\n",
=======
    "            'polynomials': [1, X, Y, (X**2+Y**2)/2, (X**2-Y**2)/2],\n",
>>>>>>> 1b60335a5d53c6e3e2de1bb1a140303f0bf8f351
    "            'equilibrium': [u, 0., 0., .5*u, 0.],\n",
    "            'relaxation_parameters': [0., s1, s1, s2, s2],\n",
    "        }\n",
    "    ],\n",
    "    'init': {u: (solution, (0.,))},\n",
    "    'boundary_conditions': {\n",
    "        0: {'method': {0: pylbm.bc.AntiBounceBack,}},\n",
    "    },\n",
    "    'parameters': {LA: la},\n",
    "}\n",
    "\n",
    "sol = pylbm.Simulation(dico)\n",
    "print(sol)"
   ]
  },
  {
   "cell_type": "markdown",
   "metadata": {},
   "source": [
    "### Run a simulation\n",
    "\n",
    "Once the simulation is initialized, one time step can be performed by using the function one_time_step.\n",
    "\n",
    "We compute the solution of the heat equation at $t=0.1$. On the same graphic, we plot the initial condition, the exact solution and the numerical solution."
   ]
  },
  {
   "cell_type": "code",
<<<<<<< HEAD
   "execution_count": 7,
=======
   "execution_count": 8,
>>>>>>> 1b60335a5d53c6e3e2de1bb1a140303f0bf8f351
   "metadata": {},
   "outputs": [
    {
     "data": {
<<<<<<< HEAD
      "image/png": "iVBORw0KGgoAAAANSUhEUgAAAWYAAAEICAYAAABs2F48AAAABHNCSVQICAgIfAhkiAAAAAlwSFlzAAALEgAACxIB0t1+/AAAADl0RVh0U29mdHdhcmUAbWF0cGxvdGxpYiB2ZXJzaW9uIDMuMC4zLCBodHRwOi8vbWF0cGxvdGxpYi5vcmcvnQurowAAIABJREFUeJzsvXu0bFtd3/n5zblqn8tLQcHI+xrpGB9DsQMYTVpRiRANahzaoqBixAxtHeqwEzVGW3Rox9Z0BxUCvlGMooBG7YAYldu+RURAjTpUuAj44vIQvJezd9Wcv/7j95tzzbWqau/aZ9c5u85lfs/YZ60116pVa8361q++v8ecS1SVjo6Ojo7DQbjsC+jo6OjomKIb5o6Ojo4DQzfMHR0dHQeGbpg7Ojo6DgzdMHd0dHQcGLph7ujo6DgwdMPc0TGDiNwuIrdf9nV0vPuiG+brABFRETm1QNy//Coit96Yq6rv+1h/36ffyPc9JIjIbWd9Ph0dl4nhsi+go+MA8fGXfQEd797ohrmjYwZV/bPLvoaOd2/0UMYBQkT+oYg8V0TeICLHIvLXIvKjIvIBG479ByLyrSLyChF5sx//ehH5HhF5yOzY5wIv881vKCEX/3vsvq/Nj3+EiLxARN4mIneKyK+LyCeJyFP9fZ86O15F5LYt53rupvCPn+tFIvJaEXmXiLxDRH5NRJ4yO+5WD2F8TPNeOn/PbTFmEbkiIl8jIq8Rkbv8fX5FRP7XDcfe6ud9rq8/X0TuEJGr/ln9i40d3NFBV8wHBxF5AvCTwAL4WeBPgYcAnwZ8koh8rKq+snnJpwFfhBncXwdOgA8GngY8UUQepapv8mP/qy8/D/j/gNua89y+72sTkf8J+A3gvYGXAK8CHuHX8ZKze2NnPBv4H8AvA3/p7/eJwPNE5ANU9ev9uLcD3wg8FXi4rxfcftobiMgR8FLMqP8R8CzgnsCnAz8uIo9U1a/d8NKHAy8HXgs8D3gv4DOBnxaRx6nqyza8puPdHara//b8B6j/Pf2Uv7f7Mbc2r7sf8DbgDuCDZuf8YODvgFfO2h8MXNlwDZ8AJODZs/bHlms75z1dy7X9vL/Xl8/aP6Xpo6du6LvbtlzDc+d95u3vv+HYI+AXgSXw4Nm+24z6W+/1duD2Wdu/8/d+MTA07e/jxyvwUU37rc09fsPsXI8v57psrva/w/y79Au4O/41X8hd/m5tXvfl3vYlW877n3z/B+14Ha8BXjtru1bDfK5rw5S0Ykoxbjj+tn0Z5lOu+dP8+M/d9N6nvG6TYf4TIAP/cMPxX+Dv8wNNWzHMt2+5/9cDd1w2V/vfYf71UMZ1hKrKtn0ew3z4rPkjfflhW8rZ/oEvPxBz3RERAZ6Muecfhinb2Lzm5JyXvQ3nvbYP9+1fVdW04fjb8FjvRSEiDwO+GqumeBhwj9khD77g+e+DhWDepKp/tOGQX/Llh2/Y96ot9/8Gxj7t6JigG+bDwnv78gvPOO7ezfr/A3wFFlt9KfAm4F2+76msG/8bdW3v6cu/3nLcX134igAR+ftYDPd+wK9g4ZO/xcI4t2Lx9CsXfJtyL3+5ZX9pv++GfW/f8poVPfnesQXdMB8W/taXH6aqrznrYBF5H+DLgN/H4pvvnO3/rMu6tub4v7dl//tuaVe283KT4ftK7Efj81X1ue0Ov//PO/0yd0K5l23X/MDZcR0dF0L/xT4s/KYv/5cdj//72Gf48xuM8kN8/xzFrY4b9u3z2n7Xl/9URDa912O3vO5twEPnjX6OR244/hG+fNGGfdtCJak555nwvv0z4MFeaTLHx/rylRv2dXScG90wHxZ+EHN9v0FEHjPfKSJhVm98uy8nxk9E7g18L5uV51t8+bDreW2q+kbgvwPvB3zp7NhPYbvRfDnwMBH5hFn717E5LHO7Lx/bNorI47GSwU24lj74AUCAb5/19f2Br2+O6ei4MG6KUIaI/AFWDXDbRY4TkZcAz1fVH9rhPW8Hnqaqv3DuC75GqOpbROTTgZ8CflNEfhH4A6wa4GFYsui9gVv8+L8SkecDTwJeJSI/j8VD/xlwFasbnqvMP8bi0E8SkRPgz7HwwfNU9fX7ujbHl2B1zM9wQ/tqTOH+S6wO+okb3uo/YuVkPy0iPw68FfgozMDfxrrS/s/A5wMvEJEX+b19CPAE4CewmuE5fhH4DOAnReTFWEz+9ar6vG3379f1z7FSv1f76+7p53kf4NtU9VdPeX1Hx+647LKQ6/WH1Qr/yAVefzvwuGt8rXJKOVZz/o2lX1jS6plYidZV4B3YoIbnAZ86O/aewLdggz2uYtn+Z2FG8rZN1wE8GjNOf4sZVgUeu+O97XxtfvwjgBdiavtOzFB/EpaYXCuX89d8MvAKP/9bgOdjavm5m/oMM9y/hIVB3gn8KvCpbCkNxMI4/ydWyrdkVqLHhnI5b78F+Fospv+u5r0+a0s/KfDcLf248bO5zt+Jp2JVMjfsPfvftf2Jf2B3O3hJ1yNU9SlnHbvl9bdzgxXzuxN8KPYPsiFp13F94H3+NFX9p5d9LR2n46aIMfvcBY8TkaeLyE+IyA+LyDtF5A9E5FEbjnsCpmw+U0T+TkRe7ftvE5Gn+fr7i8gvichbfA6D/yIim7L+HR3XDSLyIJ/n480i8joR+TJvf7GI/N/NcT8uIj/g66dyV0QeKiI/6ed8i4g8U0Q+EHgO8JH+ndhWxtdxALgpDPMMn4y5tvcFfgZzqydQ1Z/DXNUfV9V7q+qHbTiPAP8BeBA2KOKhWPijo+OGQEQCFmt/NTYI5uOBr/DE5b8CPkdEPk5EnoyFn768vJQt3PXE5P+LjSy81c/7fFX9Q2xOld/w70QXIQeMm9Ew/6qqvlhtNNXzsNFu54aq/qmq/ndVPVbVN2MDNfYyEq2jY0c8GniAqn6Tqp6o6muxaponqepfYYb0h4DvwIaVvxPO5O5jMIP9b1X1TlW9qj0pedPhpqjKmKEdMXYXcIuIDKq6Os9JfHDGd2J1uffBfqTetrer7DgVHld+7iVfxmXj4cCDZmGFiI1gBFO+zwT+uDWuZ3D3oViFybm+Dx2HhZtRMe+Ks7Ka/8GP+VBVfQ/gKZiL2NFxo/AG4HWqet/m7z6q+om+/1uAPwQeOBvFeRp334DVgW8SXXfPTP/dEHdnw/zXwK0ex9uE+2BTVb5dRB4M/NsbdmUdHYaXA+8Qka8WkXuISBSRDxGRR4vIR2P12Z/rf9/lPIXTuftybO6ObxWRe4nILSLyT3zfXwMP8bmlOw4Yd2fD/AJfvkVENg2V/Ubgf8Zqef8bNgF8R8cNg+dJnogNAnodNtf192Fzb/ww8KWq+iYPY3w/8IM+m+BW7jbnfAQ2eOiNjINsfgkbFPRXInLHdb/BjmvG3baOuaOjo+Nmxd1ZMXd0dHTclOiGuaOjo+PA0A1zR0dHx4GhG+aOjo6OA0M3zB0dHR0HhlNH/h3JFb2Fe92oa7k27GNIyE1QmPJO3naHqj6gbD/+Y++lb3nrpmd8nh+/85rjl6rqE/ZyspsEnduHg5bb++Q13LzcPtUw38K9+Aj5eNuQGUuacRsStu8DYLZf5ucKW4T7/Lg5tr3uWpDz6fu3lRXOXrdWfphn2zo7vt0/29e+5y/oCyeT2N/x1hW//nMXevhzxS0Pet3993Kimwid2w0OiNv75DXcvNzeba4MkUpICb7uhBSRkUTNurU35GteU0lZSN6eq90PU4KufYH2OIJ6Trp2uyWot1eSFvI58aRtb8mYtXlNrueRnKfn0twQOm/90mSU4z4dwsXRub3Wfpnc7rw2nG2YnbhVOcTozU7UlrCxkNiJ2pI0yJScLeEnZG1ft05mnXwhtpD3NFJvUwdNu0x+6XV9mXX0MlXHfQ0p1Y+rBFa182qGGNCU67WKKuSMBoCI+PNSNQe2EViBY/bn8r1bonN7fXnJ3O68NpxvdjkJaypCYhzVQoyjAilklSnpKWpDpiTVVnFMSL6BrL7UTSTdxQPc4NlJQ0715Xi8TslbFcGGdm8TgJSAaOdsyawN+UXQlCAEa8sZlbDu+s2gwLKP2twfOrcPgtud14adDLMEgRiNjDFaRxdiDcNI1hBGpRHDSEQRtN2OI/lVBKJMtwPj68qnHGRK1rJaiXz+m5fy+VcCtvu0unKiNOT0fYXkSes2ACnXY6VdVx335YzmXMksKxndQREEUBWEhG4RD1mVq53AF0bnNgfF7c5rw44x5hIvCyNxi5qQYG5eaSvrIZhSKIQd4pSs0pAxNkQtJBXGtnJcaJSEL+bb54J//jIjr6iOP+qqDXnLvqYtGIkrgUMYyS1pJG82YqIKyQiKqJEzRhBFUkJD8GOS9/tmy6wIy2v5xnZM0bl9UNzuvDbsEGOextAmxA3RiFvcvCFWsmpZdzJrbBTGEKZkDTIlqpN0dAGpxwITQtfPcP5Zbvps5z/ElaxlW8f1SlA/JutI6obQkosb59viCQ9V6ytXExoUWdkx9cvobp+9hbmGkpJ9GUQsLieBTdJCgasaN9xkx87o3LZjDojbndeG3WPMNRkilbiE0f2ztjC6dUVFxClhESEPYaoa4qgkNExJPSGn0BzXtLMhJrcDedfURJaqHFCZkLuQtKxrURjJ2tRVRyiEVQXJExIrjG5gHN1JcxUjkOx9S6wzbU+CZISrejM+gOYA0bl9MNzuvDbsFmN20kmMNe5W1cRiGF27si6CLqLF00JAo8XhClFzDFUpaHT1UJREpJLUflVHFVEIq9K0w/lcv4mLNyWoEde3J+rBtqW4fMnXs6uNNB6nKXtsDiRlJKnH3EDcFdScYSn+hcg1maLW2fblSMmUxdbbEE66srgwOrcPi9ud14YzDbO4WqjKoSWut2sbe4t+/BCcnPY6HVwlBCEPMpJR8G1XFGFK1pao5haObbBhvV74hptpmCDl4IawdV2Leye1zcjs63HcDiv7AhayW/lVUQwBFTWyB9uvOSN4v4lnsEtJFu7ZBZdNqkiQjUnsrMJVXZz18XWcgs7tw+N257Xh/D5Dm/RoYmgMER2CBfijVLWgQUxJVDI7kRsFkWMhspCrqvBjWwXRLtfcPSaE3VRuVN07WCMtTAmKykRpmHIwModEVRolkGZKw6qVjKxCIFt4TYLH6gIkAcmIRlglNIgZCB37dP3Chbm8UGBJVxZ7Ref2pXO789qw88i/oiQkuKIYXFUUF28I6CIaYYeALkIlr0YhL8r6SNaqIiI15mbrOKmprl8lbCHwNtcPTnH3piSYu3hWLsRIzBqTg5BkdPuSqRJz9UxRSFYkCyG5isiKLsVIn/0vCLLKkMW7Vaxwv2S1/dI1RlueMpRWEa7mriwujM7tg+J257VhN8M8H5Zas9GhunjqsThTFhZrM2I6eau7h68zEjgybsfRtdNGYWwi77lcvYI5eb1NlC3kNdJqKC6giQQjrJjAcuLKOOBpfL042cWIzRBglb0fFcHcZVG1fm0z26fMl2BJkv5MzQujc/uguN15bditXK4sZcw+j0XyhdAjcXUITdxtJLAGUxR5aBRFAB0KYanHFSJPyBtHkk7cvVZVzJct5u6dE3Xi7lHcOxrXrxDWFYSoJ0wKUUdlAU5SaeJnIlZkn524Q/CRVcHicrM+rX1tWRW213t2l+9C6Nw+OG53Xht2r8oopURFSQzm8ukiWjIkCroIpiYGc++qkoiQFiORjbyja1dUBgHyQFUQ5W+MywGi66qi9eLOQ96yvqYqpMbVqouXR6UQVuJZawgrHV3A7O5ssn0x4O6gElYANi9DSD6ZS6kIyNnqO1dYqZH39WlVGVm7y7cPdG4fFrc7rw07hjK8k4uSmCRJGvesKoUpcXOcxt9G8sqoKgJ1XyVvURVBG/IyVRqC/7xvUBab0CgKbRIhqm2b2g+7OiFLAiQ3r89ANterVRrm4pmyyFkIRkvy4EolKKreh9neh6ZfzYUsam37jXRlsSd0bh8UtzuvDeecxKghbRzLhzROkyFtfG1C3DiSsh4XGzI3SsMUhlYiV0I7WetnV0gbWqnAZgI3qkIBss1+VRLa5uJ5xrqExHzkU3D3TbJnp4uqAM9OCyQfPSWF1IoVEBmBNai5xWr9Qwz2hYmCaLBkSenfM6D0sqK9onP7ILjdeW042zDXoaNNkqSNw8XiBsoYb4tbiBstG52HaVKkVRJ5YSqCJllSlUUbl4taCaqiNZNt17gtAEAjPfAyn3ISI1Qhc3XfXF1krxeSLPZW5UtVY3HUUVDBw2ZFVRQCq09oY4OhzEfV2MxU1hJ3Np/v2m1AVxYXRef2wXG789qw+yRGPkRVY7D4W0mIlLjbEMbYWxSLuzXETUdUUtt6oyQWIzlzxIgb1N1AJ6aARq2uHbVd/RJHMssp5NWWrNnjXComFdy1szicEbEQVla2JNt1Tchd4nSuLjSBJLsGDUII6q6cc1JAUrBaUKwcy0ZiRVTVRqHlPBJ4A7IKxz0Wd3F0bh8UtzuvDTvHmCcTgU8y1+7arcXipmpCJ+tT1y4P2mSxtbp7tt6QNI7ELWQVJ7OEcR7YCXmlUQ6M5FWMvKi3OZnJRloVaUgNIDbzVom9ibmCIcvEtRx/7MW+bNjxQf2+VKrbavFMXetTuweP1W1Br/fcEzq3OSRud14brinGrJN4XBN/iy1pWxKPpM2TWJwphYnCKErC9xEawg65ElaikdXIqwSPw4nMyDuDqtS4W85GUFVTF5pkJLIE/Ee/xtZIOLl9W+wLRhpJluPoeebo4UF362xbxy+zgrQzkzVJqLOgCKtLcPlE5LOAr8V64S+Ap6jqHed4/T8CngvcA3gx8OWqqiLyGcDTgQ8EHqOqr9jzpZ91YZ3bB8Dty+L1oeHsuTJaopaSInf18mAlRHkQc/m82D4P1D/1uFvr4uUrkBvS5qMSd1N0oVVByKBVQUhQQsiEoPadidlILEr0pYg2j15bJ3BRFFkLiYVUyKtCSsHn+hbyIpg76EpDVwJObonuDmaMcNlGRAUnsUZqsgXRxsWDIkHCICZWNCBDIKhPOJ7DZGiwZbHX3b6swnG6sbNwicgAfAfwQap6h4h8G/ClmEHdFc8G/jXwm5hhfgLwEuD3gU8Dvnuf13waOrcPj9uXwetDxPmn/YTGNcH/7BdxMuKpZqIbN69kqlsl4fuIairClYREUxESlCBG3mFI9h0KmSHkSlYRJYZMKDG5cskNgXPj5pXtlAODSiXzKgRyNgKvVkbMHJzA+AxiGcrkXSSh/XHPqKkEh8biSmrTL74u5jLWuOIkOSKnjvor97HU04+5Diif+L1E5C3AewB/CiAi7w88C3gAcBfwhar6R5MXizwQeA9V/Q3f/mHgU4GXqOofetsNupUGndsHw+1L4vXB4XxPMGncEq2kbUg4IS0Tl2/q4rXbOhI3uJqIRtroy+CKYoiZ6KRdxEJec/tGMuuEtHNkFbKriJXYPLJlW5KiIZOy3W/OwZIgIiT1+03mBhb+GnmnhK3rft9WRqTTL3e08qO2H4uKWMteb4CqcJxvrLJQ1aWIfDHwe8CdwJ8AX+K7vwf4IlX9ExH5COA/Ax83O8WDgTc222/0tstD5/ZBcfsyeF0gIt8CfC5wP1W99zW8/v2A5wPvBbwS+BxVPRGRjwaeAXwo8CRVfeFZ59q9B7xD68xWdWKWUV2sKYomCTJu64S4OthfJe6QCdHduCFXFy+IcjSkkbyuIoqaiD7mtCXvJlVRyAuQNFR1kVUQsQL55JN852CF9KY07L6yZFRDnfd7fPhlcfU8IaPj/df1RlnUPvNZxsqTmlXKo3nOjsWd7I/A9xeRNqb7Par6PfODRGQBfDHw4cBrge8C/p2IPAP4KOAFjeK9suF9Nt3Udktzo9C5fTDc3jOvz4ufBZ6JCY5rwf8F/CdVfb6IPAf4Aix09+fAU4F/s+uJdqhjnsaFiFKTImWZPQZXFcPg9ZxtPG7hGepocbfq4g0Ki2zuXczERSJGUxFHQ6pKIobMUUwMIRNQFjExSCaIkbe0G3m3z8qWnbAZYeWkzRpYaWCZYm0/GSIpB1IOrFLgJGRyDqQkJIloCpZQIVgMMTHOzBWUsBKyJ1YCnr0etD4AInutZ8hYP2aL75Fncc8tbp8Cq7y3JMkdqvqoHY57JICq/hmAiPwE8DXAdwJvV9VHtgeLSAR+xzd/BiPpQ5pDHoIlEC8HndsHx+098/pcUNXfhPVwmog8AHgO8DBv+gpV/bXZMYJ5iJ/tTT+E5V6eraq3+zHbP7wZzvXTNH8M+/jU35miECZKohbRl+3AxMUrxJWoxGhuXgyZhauIKEbWK3FViXoUVhPCLkI6N3mXEidEDqKscqgKZQk18ZJVPEEdyFkpaW1N9kUUoJQLmYqwUqH2nnXSTyUjz1rGWoNslJaTz0KFkxtP4DcBHyQiD1DVNwP/DPhDVX2HiLxORD5DVV/gJP1QVX01bswLROSdIvKPgd/C3MbvutE3sQmd23AI3L4OvN7JGzwD34Ep4V8VkYcBL8Wqh1q8NyZOVr59oTDd7pMYjRv2IRR3pdQktjG58mFtc/s2xd0KaZ24Q0wsYmLhimIQVxWSnLyJIJmFq4qRvJmz43CBjDBIJquw1MAgTl4JrDSiKgRRUg4sRUl57IOcheRaQcsoJ6CMsLISIhoiW0it3n+JvYW2H+2v7evTHy0Fq3xjkySq+hci8o3AL4vIEng95qIBPBl4toh8HbDAYm2v3nCaL2Ysl3uJ/yEi/xIz0g8A/puIvEpVH3/97sbQuX1Y3L4OvN7VGzwNj8MESdl+DxG5j6q+szlmr2G6c1RltErC15v5Ztt6zjLLVi0pWvj+wUc8LTxD7XG34uLFmLnH0ZIhJqIo91qcmJsXEkNI3BJXLIK5eVfCiiEkIk5eSTUeFxjjci2Sk7bE35ZqqiIRWOXIcR7M7cuRq2FglSMn2dw+AdKQWCX7NQ9BScHLkWSMy2kytZARZFFcPe/CkijJ1h+SC8ldVYSm3vOUwSVwaYoZVX0O5tbN21+Hlb6d9fpXAB+yof2ngJ/axzWeG53bB8Pty+L1GQjAR6rqu9pGEXkp8PeAVwBfCNxXRAZXzRcK0+38BJMxNkR189pfxOryyejijW6gNirDazmDqYkwc/GGRkmUWNtRXDFI5h5xWdXDPeJJJW2UbOR10rbuXkRJzY9Z1lBJvNRI0sBSIwsrxGTRqI2iTlaiLHIi+C95DIU4gRyVrJ40yeVexVXEOFx1U/9M+q+4fWHW31uQEU7SwRH45kPn9kFx+0B5/fNYvf63A4jII1V1zaMTkZcBn455i58H/PS1vuH5059e46nNr+BYElNiTFO3j4bAeGJEohfXiyVDCnGjZ6OPQuIorNzFyyxCqkpiIbZeiBtQFmFFdHevLOfIGkhi7l5CCFnJIiw01YlTlhoJKKsYCDkSRDlJkWWInGDu4hCN6PZABi+yjzo+qb0h8Zrb60NVJ6VEVU1wZjVGi6Q3NpRxt0fn9kFw+7J47QOmPhu4p4i8Efg+VX068GXAs0TkNZjN/GXgizac4quB54vINwO/C3y/n/fRmDd4P+CJIvKNqvrBp13LDk8wkXHZ/M3nDijDMtcK7j1brYO7ez7qSQaPuQ2WoV4MFne71+KERTTi3ntxzEIyV+KKQRL3jscsKnmXRl6UhbREtoQKQBzrfTxuBkmFjCmLZYgsdSC5wjjOC5YaWeZIkMxKI8dp4Mizx4s8sAzRiuCDEiRaNltCTZ7oqgTlBF1BViWoWF1nxFy9bP2lqS3Ol7U+nvT/DKrC8vCUxc2Fzu2D4/Zl8lpVvwr4qg3tdwCfucPrXws8ZkP7bzOtRjoT53vmX6nv9P6cB/dp/iYunxTXx5Mis6GopWxongwpxD1yBVGUxCKsuEVWLMQy2UeFvOSqKoBJLK78CldVIYGomaCWlY6Y6gnZiv6XGgll4oE0cBSTJVaCsAjmDmoUQsjkMqWi39uYqS5KYdof8z5r+7OojEm/b4BCHSzQcQF0bh8UtzuvDeceYFLXZwSuWexJXE7HD624fkIdihp85FMpG6punsfdNhH3FlcTV8KSI1kRyBxJmqkKI21skqLJrz9pIIupiogdn8XG85MhBlteCas60QvAcR44ilYJcxwyMQe0DBAIimYjr87utcQepekbc5F1Qtw6dHVTf2+A6o2vyrjbonP7YLjdeW04f4y5juKhdvhGVTEjsbWvK4oywqkkQ4Ywxt0GSRuJu5AVt8iJ1YCKxd9uCSeVrAtZ1cstCZIykeCSAUhG5nxEkMxSBydx+TX3ybo97ZxFWIRk5Uh+fTkmFB+N1SgLnPzmEqsPez2tf2RK4jOqMUYIq9QJvFd0bh8Atzuv4TxVGb6shfdBml/Ndr2JxW2YN0B8KOrgI5+OhsSRF9gfRSsbukdcciWsuHc8nhD33vFqde3uFY4rcQOZW8KSyDQ5MlEVLoNKciQRWJAsJoew1IEo5uadqHXL1bzwL4u5eoNkQlpwMqzqZOFHw/iUX1XIg2WxVe2pDpqxaR5LHC6Nrt+0GF/GqoAz4svlvbrLtwd0bh8UtzuvDTsr5nZi6zKnQJ1bYParqUVBTNrHMfR1esMSd3N1MUiyBIjXdpZkSFEThbgLj8EtGMuJjkg1BhdZn+xlgc+6JUpAiKpVPQQNILCQMemwkDSqiiAMIdkoKg0MklhJYAhlSK3NSRCaeQLa+xff1uImt/1S+9H2l14+c4QUNpVjx8XRuX043O68Npx/onzHpuTIpuTJWD6DuXpixA1hnHM2YENRB0+OBLT+mi9CS1hbHkliQfL428qz16mSdtFkrKfXD0sC0UmMWhJlyQAKRzIqhOIypiDkLCwksSK6S5oZ1GbqqvcQMiK2XYesCthk57KeBNnQd5v6eSt0nLymYw/o3D4MbndeA9dUx1z+ZK3YfqzrZBw/77WdNf7mBfdDyCyiZatLCdGR13PeI55wJay4EpbcImV5Ul28BcXdSxyV0VFeSmREHi/XhUHFUjNJbBLxpRfbn0hioRGyKYulJpIKVz1pQoArYXzczVGJyUXLYtsTG4Tsw2/FkyVEtQnJE3XY6qSP2r5rFMeuyKkTeK/o3D4Ibnde7zq7XC20X+9n5az/AAAgAElEQVSw+Y/bmqrAlyVrDfWXuMwxW36pgydIyqinUUWsajJkVBNT4h5Jthp/GWv9C8p6AhYCQe3JECgsJXCk9lifI0mUyWijKEesyCKWYJHEUqJfnyuLbO/f3o/M7rfc/6RfTuk/a2smftlWVqSgPRZ3MXRuHxy3O68NpxvmTT9c0k4mbk0Tl6X5mxJYZ6SlmXO2uHiZSK7lQcV9C+Tq1lncbbWmJhYNaaMImz7aCCS1985AQkFzJfBSViSsFnQhK5La0NWoWuN9KwILyazKSKyQCTlQnjZR/rTEAaWNxU37RWfkniRH2i4PYt+82YfTlcUF0Ll9oNzuvIZrCWXMMVcPbZvH4NoPEmmeY4aX5Mz+6lBUVxRHJcZWiN3E26IoC5s5thJ30XzrgghZy2gpvwbfXuAJDSdwVFMzVgeqHEkiu7IY5ypYv96ilKL4XAn1S20xuBKL29pP1wIF7QS+vujcvvHc7rwGrsEwz4vu2/bJH36czyMw1nf6Exw8IRLddVo0meppYqRkr0+4JSw5wtvcxStq4hYRIkIoy1ZX+GVm7EuRUVMUnuVe+tyGi+LuBVgSIR+RsJFUi7CqiZJFSKzUJiAv159UWIllr7Pfq8XdPEGyoY/GvhPWivJ3/jA69oXO7QPhduf1xRXz3PWb7ms22h/V8mvsaiOg459nsotrF320k5UKjcNSo2gdhBRhjbhxU/ZXPV0iWNaa8v4Wd4uqJMlElfH9dXz/9vrK36b7kfrf2A9rV9O6eE1N6s7oyuK6o3P7ErjdeQ3A+aLsux69yQUsm9IMl19znZwoUmJz4xKY1HEauZq424y4YcO/0l6JLuKvZ3reSurpdUyubXbtdj8bwmjX4trt2s/++PkL/50DInKbiPyxiLzK/97nnK9/PxH5LRH5ExH5cRE58vaPFpFXishKRD79XBe1D3RuHw6398Xrc3L7kHBtc2VM2mfr821YS46UXS1pKyFK4sGVQ5sUKe0LRjevxN1a4g5N3jpKIKk/zJIIkqq6WLjUSWoJloVmm2zc3y8hnhwpX5rps9daEreKaZokkd36aNf+LlBBLk9ZPNknvL8W7O2BlXtD5/bhcPtyeX0wuPa6lJlymJQbnaIqgErgTRifCLy5kL4d9RQZb6BVDXaeQJT19flx8/KjbY/uqUNht1zX1vvaoirqSKkN+3ZG2tPfHiAiDxCRF4nIb/vfP9lwjGAPrCyPb/8h4FMBVPV2VX0N09Lcy0Hn9m73db24vS9e74nbl4FLe0746CKdQuQmBmfb1xCLvQa071dicduwy31cFyjI5blqPygiCXgR8M2qqlzCAysPFZ3bF8Dl8vpgcGMN844f8CaSzttaqR9mrlFREGvnkEDW8Wc0iJB0TJLM32+5w3VtxA0i8ikC57w4z5OEn6yqbxKR+2CG+XOAH+YSHlh5UOjc3hv2yOubFjfWMO9YBpM2fH/nbT6xla2rTr7ySfNGAqeZOig1oOV8572GrbgR5T7KPpMbOz9JWFXf5Mt3isiPYk9s+GHs+39DH1h5UOjc3g/2y+ubFpc29rFMVHLahCUJm/S7kGZn8lwQ7fvZ+2/vpl3u43pB0n7+dn4/kUFE7u/rC+BfAL/vu8sDK8uxjwRQ1cer6iNV9Wke8ngZ9sBKuOADKw8VndsXw754fR5uHxqu3TAroxOq2ETaW/atvfQ0wvpjcvKWBzK2JEmMaiCTSapkb0maq4po1+fHZaY5gm0kLNdz2oMiN95X2w9NX4jq1n27QBQkyV7+zoErwEv9oZSvAt4EfK/v+zLgUSLyGhH5H2x+WCXYAyu/UkT+FIs51wdW+gMwPwP4bhH5g/P1yB7Rub3bfV0Hbu+T1zdzdcfuoQzd0rs6W59vA6jNUFX+yq6s4n/B/4RMeW6ZzZJly8CSwduVJYGlWllRclfPCuKzlQtJqpnpNu7WEjf5qCjbhqXatIllPoGlDlXRJJXabtc3u2aV8Vbb+6yzu+zQR7v2d4MbHYtT1TuBf7Rl3w1/YOXe0Ll9UNzuMebzxph37bBTVIUqZG8byTsSIvmfEcWXEoBkj2VHfM5ZIfikLagNRTUvrRB4/WJb4mY14iYgKU5O8SdAuAvH9Dom1za7drufDZy7FuWwSz/rze2qHRw6tw+D253XwB6Sf6KK1AkE5vua5ta7Kb/E5UNHxj9XFjUG5g+XTGKPzLGhpUpSIYrWzzmVN2gJPMOEuGh1FzNMlEMi0Mbgirpor6/8bbofrf+N/bAGdbdtB2W8DV1ZXF90bl8Otzuvr8EwS/l1rB0vtX3yh//CZoHsk2pne2KCqj2uZiVK0sAqB5sPVjJLjfZInKwsQ7Tx/GTIRyzwR+IoLCWDGmkXfkE25LTMwFWK+ccZuIDq4iWKi+cTixPsmWhEruYFV/NRvZalRpZ5aNbtb5VDvf6Ug5HY71Oz+DfDvtiyoY/GPtWmT3f8ILQTeN/o3D4AbndeA/sol9vk2lWC+9N1S5zK25IKg7etu3zij2G3h0gG1TqePzvBoj+dYSkBfCLwWodZ43KG1BA3+3ZREy1xi6u3VHvwe0I48YdXLnUwpbPBzSsxOPX7GqcfA1HxL7uc3k/XAKG7fNcdnds3nNud14bTDfNGN0XdxaP5kBh/ESeqo4lLzZIkWY24KZdYl7B092qpkYWmGhvL4gkLhODJkhNJPgG4EXiJzciVPWkSN1x6IW3S0cUrxD1hmhQxwo6kTmrXZddXEiXBr188Brc5ObKpXyYKonX9Nrh/mjd8EF1ZXAyd24fJ7c5rYBfFnLN1qJN2jrl7Ig2htflwyNRY3JTE9nTeVQ4MEljlaI+6cdcqolVZLHVwPxJ7jpnQENimN8w+aUv5bNefi1ZqOOfEjZxoZEl0EktVFOVasgqrHMl+vStXGe396Ox+y/23/XJa/1mb1j4nnzJ/QVcWF0Pn9kFy+7J4LSK3AQ8EyiCpT1DVvznH698PeD7wXsArgc9R1RMR+UrgacAKeDPwr1T19aed6/yhjPrrqDamvfxClkxDHtetJhF7PHyJTyV7PPkqBCTZTFXLFOtMVsd5vKTjvBgfsy7ij9mJ9vyybM8xW8qqPp0hqj/94ZTx/3PXriiIE43cpVeMwDpwV77CUgeu6sBxXnCcB96VjjjOAyc5cpIHlimyzIFl8lhcCmgqMTiBJFbortN+qett3zWxuJ0/h64s9ovO7cvn9uXz+nrMnPi7wKNU9S4R+WLg2zijtPR8hrlRFa3LsrZOoyo8FleSJfbrCzkHNGRTFoj9Sov9Ui+cWCVREoOddKmjE7eQCK4QytMZbCJwJSMbJ15pS4ayBk6w97Ba0liJu2yXTWIkMyqgVTaXr6qjHFwIyJgU8fufq4ptfbepn09D6Ip5f+jcPhhuHxqvReQBwHOAh3nTV6jqr82OEWzmxM/2ph8Cng48W1Vf1hz6m8BTznrPnQ2zZK0/eMXtq+5f8yFMPzSdkLj8clr2GlIOpKyssj3GZuVZ4cHnhl3mSAhqv6ABTnS83KUmEGoNJgGiChl7UgM6nZil1m+WwnoCV/OiJkOWjWt34sureVEz1avcZKyr6xf8HoJ/IZtESEva+iWe99GW/vT+PhWXryzuNujcPiBuXz6vr/fMiV8AvOSsi9jNMFeSWixOM15xLkj2jq7rjGPV/fk4tl2eQBzIi8BqNZ7+ZIh+euFqGIwYMRC8xOhKWFVFUR77Xmo9yxOGl8RK1oWMJ4/oZB6CpX8BEsLVfFSJm1Sqi7fUyDvTLSw1cpwHjvPAnemI42Su3vHKXb4UOVlFVimwWkVTFqvgbp67em1/lG139STr6PZldRdZJ/29DQKEbpgvjs7tg+L2deD1wcycKCJPAR4FfMxZF33+GHMuv4CM8bjZL2bryqji8TojOBmLx4m5SDkoKQeW2Lyvq+wxOf/1DjqqiqslLgdcVeUII7HF5Y78CcS5krWd3rBO3uKjnUom+sRLiNpkSFETx+7qFbVjrp4tlymOWescmvrOsaxIGrdvW/8UpVXdvbOUcoH25N/e0bl9+dzeP68PYuZEEXkc8O+Bj1HV47Ou5drmyijBfOZu3pTIksXcxJI+dhJqFnIQxIvyUw6IGIlPsqmHIMpx8svz1y88MZKC1KRJECWz8pFT/vwyv9b2iQxlgpZ2BFRx7bJKTYaUuFsh7kkeOE4DKw2cuKpIOdhoqhzIfg9Znbza3KsWFTEl8cai+0LkTf29Bb2saE/o3D4obl8Gr0VkAO6rqnc0Myf+gu8uMyd+ux/7SFV9lao+fnaOl2EzJz6fZuZEEflw4LuBJ+xa5bGbYS5lLVnXkiBbfzVzib/5/lwUBWMW25XFKhl5l07glSgnKXIUAjiBs1giJAcjC8GIGFXJIiSxWF7QTPQLbJ/OUKY3TCoTVVFqSI2wY9ztOA+sNHKcBpYaOEmmJlIOLD32tkphXVFk8S/tLO6WZ/2j0/4r/SnF9Wv7fRO6Yt4POrcPi9uXx+syc+ICmw77F5jOnPgsn1VxAH6ZzbMnfjXwfBH5ZqwS4/u9/duBewMv8HDIn6vqJ592MWcb5jYm1PxZDEmb2JsSktgcK2GMPwURsigWGhMQ0JUAgaQWezsJ2QvyBQEWObEMpi6OYuI4DyxCImtgCImFJK6EhZUReTJlEVb1oZJlOUdJjpTlMo+jnibuXY7cmY6qi3eSIncur3CSI8sUubocWCWPvy0jOQmaArry+NtKkJXf/2o9HheS9VftO+/LeR9P+n8GoSvmC6Nz++C4fVm8vs4zJz7uvNdzDXXMJW6krjLKdok9qf+qurKotY1io3wSkMQGD4mRPedAmTo1DYmQAyfAItt0iEdxRVZhEHvS78rHPi0lVgLnLAS0PoK9uKPzBEnJdOdS6+nEzSq8Kx1Ze44TF2+lYeLmrUoMzucQKDWsJKlDsIqKohJ0JOqYuda1fty1VM6UxY7HduyGzu3L53bnNXCeqow6WoeavZ64K+7SyMy1qXGokqX1ek8yaApkyaRkKgNglYyYWYVliOTgpUAhEdKClQYG/0kdQmJFsMJ7SQTRqjI2PfG3kLbMC1BIm7DEh7l4gWWOnHgZUSHtMsUJcVMKpCRVUZTESPniFgKv9UXTP5P+K1nrWpCvZxL50Oo9b0p0bh8ctzuvz6OY3R0x4jYuXwKJxYVxV0+UsHLS4ZNmDZBx5RHFi/JBNZAkkrNafA2IITLEhAKLkDkOmUEyJ8OKQRJDyByFRJDMQrKRNySCu3mnPdW3TgTu6sFIbHManPisWiu1sqE27lZcvJQDy2UcR0ItA6w8/rYSZCnVpQvL4vLZnySdunzFBSyuXlUXenYGu3wJbiBE5J7AC4D3x/TTz6rq15zzHNuGrX408AzgQ4EnqeoL93rxp6Fz+3C4fQm8PkTsZJhVdXSYdEySqLt946/k6Oa1bg7iH5KUdY/HASRTF5BJBCu6dyyDklWIOZBjQpKyksCgFrcbQmaFDVVdaXDybo7BFbRPkyjkLaOzTvJgo55UasytZKinasKJm6yuk9w8zia3pGRjf1RXb+Iuj+1tv2+DcGku339U1ZeJyBHwiyLyz1X1zIL5BtuGrf458FTg3+z9ik9B5/ZhcfsSeX1QOFeMuY6QKkmS6p6MMaaSsW0/MA3F9VHqdLLJkiEqWAzL64ZSsHVVCBLRKDa8tVxwyBYDi8KQc1UR10LeQtSsodZvViIXsnqGumSpU5JKXG2IayRuCStNv0xdvWnxPaOScLKeOeoPLkVZqOpd2MNUcZX7SvxxUHsYtnq7H3Mpeqlz+0C43RUzsOvscm1WNSkE+0XUZMuwoqoFEVMPYeXj+gHUCByyoIPaKKkIGjGXj4AmNaKqkKNNAJNzIIRMCEbKoyERQ0ZEWQQjbSxL/zTLhDFlvd6GSl2W9RKPK8X0S094pBw4WbniyF72tIx2bcXFK8Q9cTfPR0OFJb5t6yGBrKw/Sjbb3D21tmx9Wpaezh9dvlNK5sJq667rDhG5L/BEbLgq7HfY6o1B5/ZBcvsyeX0oOPcAE1FXFqXu00m3piyKm+NuXnH7SNL8aroTGZzIig1r1YwESBLIQYy8Pk4zBkHE3lNECTkgmNoQ0Ql5N6FOAO7zAai3qQrLNJK3qIjy1IacSoa6ibulKXHNzZOpkpi5fRNF4f3X1neOczTsoCz25/KdZ9hqKcb/MeA7vUQI9jRs9VLQuX043N4vr29a7FiV4b9srZunHp/T9kNqiJtAREEaIjumBeSCz9kyxuU0QFSSUBMyJYOdXGmoOnnF3ifpOOtW+fZvUhXabNdH5iiVzGUmrdUqGml1JG1x71oX76x5A6xdZ23NdonJ6brbxylTPIrH8faEnYetOr4H+BNVfUbTduFhq5eCzu2D4vaeeX3T4hxVGbnp1NLJQNv5VU2MJCYpIjIhbEg2U1aBJChj8NXjdPZWAQ2KBs+YK4SgiARyNBUhokSxxEkhM/gXZ4b6gEwna3lkTl1P40xa81FPuvJYm45KglY1JLuvdSLPi+0Ladf7cNK/p436q/2486e3N/iopvfEJv5ucaFhq5eKzu2D4nYvl9vBMGtVER4XShlCQCQTRNCUQYKVDlUXREb3LWOv9dibTxdgZUURNNocBBpAg1g8LihE0JXF/FSAoOQhg6sIiZZNF0/5loy3yGbijvcjlSPZ6zPL0xk0lUfnYDNp1fkBiorwL+hyVEpWNiRjfK3E3hKEpXopkZcYeTwuJEVW6uuZsMrIKnscbhr3VC2dOL8R7PgbCBF5CDYRyx8Br/SwxTNV9fu44LBVEXk08FPA/YAnisg3quoHX8/76dzm8Lh9Cbw+RJx/ovxS79kkTCSMNYwiRuKcQMRKh0IC9V/BgMfc6jkFCc2vqwA+kUtJrJSJXlQDCKYyPAtu5IUcxrKnCXmlSJVyC6PbVyZmqYStM2hRFUQtpl81menWdVvJpK3WvLb1nO7yhaIwqtrQSUJkzd07A+EGE1hV3wgb48TsYdjqb+MVHpeCzu2D4faN5vUhYsdJjIysAo2rVzrc9kuQMfjvsbeQLHsNeEC/rDfnVhtzr0FNdSBIMIIa87E/EfvCeGxPg1pipcTeglaTcZaqKO+ruaz7l6UQV11FKA15bUlL0CxTIrdxuEnB/frcAeYe61jfOSOuFhW3BeX1HRdE5/ZBcbvz2rB78i8rpISkjEpyxZCRlIFAIKPL8usMMZg7Jc2oJ41q7p66qxfw+QSgzC0gCyduEHQF6srEyO3rAsSRrCo+/SLj9vZ7aQRfxuZBgKok6lBSJ2ctkE9UIoclNftc1mssbqmNu+fELSVESzV1sVJ38RRJ5upJUlhZ/5KSu3ynxOIUZNUJfGF0bh8WtzuvgZ3qmL2TNGPBsZmqSGpkKb+k5Zc92cQrVu+p9tBKwMSCWuyrlBKJu3Xq7mAwNZHVzleK+DUb90R0VAQWjPMT+7bP9LUGnS3b6QuhJmrqIIJmGba4e6PCcJdu1RC5Ie6oNOzPnjPv6xtURSXuVvWgbjg6rhmd2wfI7c5ruMYYs8XfMiKC5mwfuoRaKmPunrlrlcBBx/kEgp/La0SNsK4wsA9fAwRtFIUAER/6amVIRWGU0qUqGDZGQcs9+CGFtNooidrmhNRGWaSWyI2SWI3EncbjZsQtWWuPv1lfZciuKFJeJ/CpnwX0es89onP7MLjdeQ2cI8ZcsqilzlCDd3J2MpYPRAR8xJQ9rX1UFUEbly2AqjphTUVIcdnKfiexODE1Y4pE7FgjLkZcRkFBu2wxUxVS1gtxcyGwVPKOgwum5C0Kw0Y4taQdidwSt4yEmsfi2hm3pOnnWilwCrqy2AM6tw+O253X55nEKOtYUiSWMFBAQvDOD0gQQlI0W1ZDEjV+VpRCjni7VCURBiOkBghxbK+uoPgyYnE5GONu0hxTttvl5Eamy1ZFgJPT2831YxaXmykIbVRFLiQdEyIl7lb3nXjMLastVxlW2eJvq2QByVJS5EmpbRB3tTsuhs7tw+J257VhhyeY5HGpM5eklBflbMmFVYYhwCojwWNj0bPVAVBTFuCZ6lLfqaO7p1qILK4iGvI2Lh5hbIeGvLCZuPV+msMaMk9VxaggpuTVSuxJtroprq8qI48xt0rghrgWh8vTMqL6l6f9vu0+Vl1ZXAid24fH7c5r4DzP/IuuHpyoiFgWO/t0LpKtJMcJHJINLa1hpeLCeZ1nJW5QJ+/o0mkARD2jTZO9ZkJeaIh9reTVhsQbyaugPhpJG8JqIeioKDa6eG3craiJrEiJv2XP/ntsczIK7dQRUoqkdMr+jp3QuX1g3O68hnM8wUSTVW0aWR1RYSk2WqqwMliiRLM6OQWiICkYOaMQBvFZuBQEcvTaTRErOXIyaiyP6dEpSQuRYaoqGtIWt7BFnUQFpqRt3T2dkVqL+6d124g8knVMqKiXCdmxwdVDS1zbzsgyQXXxkhE3JVdoyUadnZYoUfoIqX2gc/uwuN15DVzLM/+yf5oewJfsJUUrr/+M7rt5osTUCFYL6q5dxnYXd65kN9TFiZakR5qSVoNMCAynuXwbPtzTXL12vSiGlryeyCjr5flmYaWNCmkTIUZkPENtMbs8ZqpXiZoUaYapbkyKbCKxYrG7jv2hc/vyud15DewyV4a7JnUyWs11xizAPgycWO76qR8vwXke3T8TRWJhqY4qI1Pjam1SZOLelRFRbHDxKnllsr35hvyQWlNZtpkQuSVrdfN0qiBo421VcbhyUIy07tKRsfhkcZlzduLmqixMSZQEibXrKXXMu0x01LEdndscILc7r+E8VRmqaEo2rj5G+8xVjSfBstZkRWOwGbecwDa3rKBDqF8AGWxegFqfGaWJtXmbu4oTgs5jcqWdQtxWNmy6kenmGoFnsbeW2OXXv66X4ypxi8oYk0ji67XQviiJdgRUzuhq5evJSWzHnVaVYefrM4pfFJ3bB8btzmvgvNN+hjC6eyQg2ocAlMJLUaXUXtq2k9bbEc9eO3El2PSDpZ5TRFxhSB1RNSZFjKBFZZS3tWPmzNxwD3MutIoCRhUBlagjsbUqiVFt6ITULWEnpPWYmjh527aRxGVZ3L4zVINiX4aOi6Nz+3C43XkN7Foul638R3CFkZy4pKb43dkSjayyGl1AI3F0wo4EL6+RKKPCCH5MqzrKucO6S7eTi7f13vyla66fkxQmRK1KoiFrSVTU0qCk43pD1uraFeIW5ZDySNyUqpKoE71snS9jB+PdcTo6tw+Q253XcK4nmMRKRA3BCOxKQhMQxEcbOTGjIlkqSdXbbfSU+WriZMbnBijbEhhfV0hZSF2uqaqJmbo4B1o1Yct2n9ZkxUheZfKASZiSFSbDT6VZnyiJbKVYlZyuLLSJ0Y39vgVKd/n2gc7tw+J25zWwa4w5K0JCJVSCVncuK+XRChp9wL8EI/NEOZRZxAV/Zo693tuKa9e+ph5b0LbTKIoWYb1pDRs4sfY8sjYGlnXa7uuyqb1tq65wIaaTtbh5fu4Sd7PtXBMl2xN/fs5e73lhdG4fGLc7r4FzT2JkhfUkLx8KwTveVUI5zsk7umLBMrUTUoZxvVULQdZISkNSbcgsm8g7O379HrYTor68Jc0mUs/3N8Qr62vu2mxby3wAuVEa9T12cOVUYdmVxd7QuX0Y3O68BnaKMSuQfY4AEBJIML4WEpcPrCRRcKJOFEFoEh4NqaEeJxvIWknu7RNankbS82JO6omqyGvtlWh5Rri2vSVhbjLRsxFQOnuNtufc9mVDLePdce3o3D5AbndewzlG/hUfyR6jkyrxFKycqIWEaZJ4tn9NDYTxXLMDT7+usItvtyPOrILYYiBnr1srA5q7bDPFMHHp1p5/dloog9Fl7Lh2dG4fFrc7r4HzhDLWfnXHzrNRTi3RTu9Ylf2Rbu2Lcw04NZZ7/pOd49hrf19VJXeXbz/o3N71ZOc49tret/PaIKdOLSnyZuD1N+5yOk7Bw1X1AWVDRH4OuP+ezn2Hqj5hT+e6KdC5fVCo3N4zr+Em5faphrmjo6Oj48Zjj4Gsjo6Ojo59oBvmjo6OjgPDTWmYReQDROR3ReSdIpJF5Ov3cM5bRURF5PxToXZ0dHTsETerEfoq4DZV/fDLvpCOjo6OfeOmVMzAw4E/uOyL6Oi40djk0Z3Xy+te4eHjpjPMIvJLwMcCzxSRvxORHxWRb/Z9jxWRN4rI/y4ifyMifykin9+89pM8BPIOEXmDiDz9km6jo2MCEXmQiLxIRN4sIq8TkS/z9qeLyAtF5EdE5B3AU7e0XRGRZ4jIX/jfM0Tkip+jfC++WkT+CvjBS7zVjh1w0xlmVf044FeAL1XVewMns0PeF3hP4MHAFwDPEpH7+b47gc8F7gt8EvDFIvKpN+TCOzq2QEQC8LPAqzHefjzwFSLyeD/kU4AXYrz9L1va/j3wj4FHAh8GPAb4uuZt3hd4L8zb/NfX8XY69oCbzjDvgCXwTaq6VNUXA38HfACAqt6mqr+nqllVXwP8GPAxl3itHR0AjwYeoKrfpKonqvpa4HuBJ/n+31DV/+q8fdeWtidjvP8bVX0z8I3A5zTvkYFvUNXj5hwdB4q7Y6zpLarajum8C7g3gIh8BPCtwIcAR8AV4AU3/Ao7OqZ4OPAgEXl70xYxz/D1wBs2vGbe9iCmIxlf720Fb1bVq3u41o4bgLujYj4NPwr8DPBQVX1P4DlwTc+H6OjYJ94AvE5V79v83UdVP9H3b56GbYq/wAx8wcO8bdvxHQeMdzfDfB/grap6VUQeA3z2ZV9QRwfwcuAdnpy7h4hEEfkQEXn0Oc7xY8DXicgDROT+wP8B/Mh1udqO6453N8P8vwHfJCLvxIj7E5d8PR0dqGoCnogl7l4H3AF8H5bE3hXfDLwCeA3we8Arva3jJkSfxKijo6PjwPDuppg7Ojo6Dh7dMHd0dHQcGLph7ujo6DgwdMPc0dHRcWA4daiFoR0AACAASURBVIDJkVzRW7jXjbqWa8M+qpBvgvznO3nbHe2jpR7/sffSt7x1Pw+t/J3XHL/0Znz8zkVw//eKeutDFzsdq5dEkH2862UV6cs53vl3XnNcub1PXvu5b0pun2qYb+FefIR8vG3Mn+rbPHRy05OEJ9jxScJr6E8Srqu/oC+cPJ/ujrcmfuulDznlgnfH4oF/ts9nrN0UuPWhC17+0ocCkGb9nhuTmJnuS7PPd23/zJzmLbyZHzfHOR57eibO+pbELUY0zL5/8+PC7MxRtu8Ps9fGxkbEB/5p5fY+eQ03L7d3G5ItUo2tBF93Yysio4Fs1q29+TCa11SDWz6c9lztfpga37Ufhz3qgbUnJTfbrfH19mqAi2H1L7e07e0XPmvzmlzPIzlPz6W5MdZ56w+Coiy1P+b9okiaqyHOZJJqNbYJrYY1odVYJtXJs7IzkHRct+PFjxVvl0k7QNZxPc0M13z7IoizH4F2O4iutQdfRsmzdj9OpsY+4kZZrb0Y8CAyrhOIIqOx1jwxzgWd14azDbMb5aqKY/RmN8KtMY7FQLsRbg1wkKnhbY35xBC3r1s31Dox9lvIe5rB3qZ8m3aZqFhdX2Ydvzaq477G4KofV42zqp1XM8SAplyvVVQhZzSA0dqIqTmwzTgryrH2x7xfBMUoF0NcDEIxyK0xPtFivM0ItwY4qUwMbzG4CZkZ4jAabDdQWUfj1B6bdLPOzafo37BFZxcDC3OjnEEhMhrg0B6rOhpladZVie12ea2/7shvI6iSEVfemaywqLcYNhrnzmvD+SYxkrCmkCXGUQnHOKrrYohlatApSlqmBlhbNT0x4BsMsS91kwHeJbqxgb/SGF715Xi8Tg1zVbsb2r1NAFICop2zNdTaGHYRNCUI7uzljEpYD2tsuIWrXVnsDakY4kYhLxtlvHRj3BriYkiXbkTNKAc3yKPhHdVzqIbVzjOStbY355ojbzHWLVrDWhBnCrg14FFyY2DzRCWHup6Jatvl2EVrzDEjPRpnfz+wILdaeCiIuFHfLpw6rw07GWYJAjGaoY3RjEgxmsMwGuIQRhUdw2hkRdB2O46GXUXMN2q3A+PrymcYZGqIy2o10ue/+erFVePa7tMaphClMby+rxjwpHUbgJTrsdKuq477ckZzroZaVjKGOsTSJqqCkNjGUUVZ3gxZywNHJrPU5IY4uyI2g3ysoyFeEshqxnipsRrfrIETjWSC77OvVNL5ttgxGvx1m4132YbROO9ikOcI8zDETDW3RtfUsBllM85ufGVlBtePLduBzJEkN9RmrBeS/LzKQnNV1FeK0XajjFgIZyEQiGvX3Xlt2DHGXGLBYTTKRSlLsBBGaSvrIZgKLsZ4iFNDLI2hjY0RLgZYGNvKcaFRyb6Yb58L/vnLzDCL6ihYVRvDXPY1bcEMdDXOIYyGW9JomLMZXVQhec5a1AxvjCCKpISG4Mck7/fNlllVuHotv0YdE5RkXlatRnmJhSvMsIa6LAZ5qUNVvJnAVV1MDHExwgAnOlQjXAzwZOlGNzcKOjcK267t/J9ziR2PKnncnqy7Cp4uzVgfSfTXmqFdSKyGOrMkaK6KOyFmoElufBUks1Qlm9IAEbIr5qTKsOG2Oq8NO8SYp/HhiVEO0YxyCWEMsRpiLetuqDU26nkIU0McZGqE3QCP4Q3qscDEWNfPcP5Zbvps5z/E1RCXbR3Xq/H1Y7KOBrsx1pJLiMK3xZN5qtZXrpQ1KLKiErS+X30LC3tIsny9iFjMWQKbZLMCy07gC6HEl0uFRGuUl9UYmxG9qkM1rld10RjhYrADSYWrejQxxMWYFyNcDPBSzeiNx8pku6zbMsyue/1zDzNyF0VcDbQb29LWbi8kVYPdGutFo4qDKLeImBLWTJJAlMyCVVXlSbInO1djZYu4l+jGeSHi/W3x/blm7rw27B5jrok+qUaZMIY2rC2MIYuikOPUGCNCHsJUEcdRJWuYGuyJ4RWa45p2NsSbdzDMa0o5S1XFqEwMdzHAZV2Lek7Wpq6oQzHGrhhaA11i15IyxDFUYmGQCCR73xLHT9tjbRaLW3cFO86PkuhLjEY5qRnmk2pghxqyKAq5GOSreVGN61VdTBTxUmM1yMsc63FLjRPDm0vsWhsjPavsGK93PbQxjy2XcEQx2EFcDYvFhFvDbQbYjPUipGqgR8Nsx2eRetwtYTkx0ABBLcQRUZInFgOjUQ7iZYK6XlpX743Oa9g1xuwGVWKsMeWqlBfDGLYo6yLoIlqsOAQ0Woy5GOEcQ1XBGl0ZF5UcqQbYFOOokAsfVZp2OF9YYxK+mBpfM8q+PVHGti0lnJFKDNqVdBqP05Q97gySMpLU48kgHubQnGEpbuxzTRSqdbYZ/pRMNW+5jewqruNiMINsib4SUy5K+U5d1LDFnflKXb8rX6mGeakDV3WoRvhqXlTVu8rWttJIUmGVYzXAZT2r/a2yK+imDUbVrDNjvQnFCEujjMsyuEEGGEKatA0hVYNd1gdJLCQxhEYxh2U11rfkFQtZVbV9z3DsKntFCkJUZSlWXbGwL4qFMdxQzxV+Qee14cweEFfCVRW3RtnbtY0rRz9+CG547XU6uAIOQh5kNLSCb7taDlND3BphC3mMbbBhvV74hpuZJPekto2hjMZAZ7VjtCjmcb/EcTus7MelGHIrLSxqOKCiZsiD7decEbzfxKszSrkhHrUI7hKoIkE2Fmhok1jquDZk8hhbZmqUT5iq5KUOLDVy4sY3UQxz5DgvbD1HjvPgRtkM73EaqlpeuRrOGwxzymHNKOsGAw3rETmY0r01yLLBOMcQ1wxz2R5yUc0DV+KKkN1Yky1pF8xgE0o5YCBqrglBwJOpRtoTSeMFi4WNIh7TlwyzYEbnteH8PdAm9Jr4MENEh2DJqyhVCWsQU8nVULuRbtRxjsVIC7kqZj+2Vcftci2UwYSdm0rpaugC1gwyTI0vKhMVbarYDHVIVBVdgsSmos0VM0MsVpaUMKuc1S46CUhGNMIqoUHsx0/HPl2/cFn7NlqSpBP4WrFpmHXyqotJgs5DF1d14YZ5qEa6/N2VjqpCflc+miji4zRUg3ySh2p4lznW9WKAs5qHlPI0xmz7m2vfEIMVGQ+wr+RUNcdgWrsYYCmGWdQMsa8fhRUnOTJIthpklEFDDY0kAks3plkCWQILSVxVJbOqhvoWWZLI1o+iBISg0nzpSp/PR852XsM5Rv4VlSzB1fLgirmEL4aALqIZ4yGgi1ANs0YhL8r6aIirQo5jbNnWcYPNely5GOdtYQ04JZQxNXDz8IWVwjEa3RpvhpBkDGkkU9wWxjC1LFmRLITkCjkruhQz6Nn/giCrjKWpPURUyuZKchXQaOOl9JRh4opw0gl8YSSUE1WWCktMLV9141vCF1d14eumju/KR1UhLzVyZ7pSFXExxKscWGnkJHmMWYVlih5HFlYpesm7GebkS1Uh59Egq04N8bbxUVAp5Ovq+skNdFBvs8EhUo0zDNFjzKIs6nrmKCYGD2cMknlXXDCIKeqlRhaSqoK+p0aueKgDIEmwKo6gXva3AoGlZc836g/ovC7YrQfmQ65rpUWo4Qv1OLOpZosjm9F1w1xDGfg6o3GOjNtxDFtoo543GeZzhTEK5obZ28QSxRsMsxlkDSW8YQLYjLEY+d0ol/yLtfnrxQ25mNFmCLDK3o9qmiR6iV30UrlaHri9ftVicbtNwtOxHblZlqRcwmqT58q4hCyu+nKVA8d5wXEaWKqFL66mgZXvSzlwkiMpW8XGMkUzwllY5VANsZW2h2qENXt7uUg/xtZPuZmSYhEquS0qqEg1zJBCrkZbRElZiL4/qVdehIyqsAqBQTNDMbghkdWUdA5Lq0Zx1UwGAiw11tGEJxoJkr1NiybZOhdI57Vht3K5spTpoJFxQIiHL4bGODeGWGtow9RyHhq1HECHYoypxxUjPTHMcTTAk1BGq5jnyxbz0IUb4UkogxK6YBpzDlTjK6KeDCxGeFTN4AZYmtiwiA0gyW6Uh+CjBoPFnGd9WvvaMoZsqmXOCFdzJ/BFUGuYGYdPlzBGGTBy4uGL1igf58ENs8WUj7Op5JMUuZoWpBxYqRnm42qMA6tkBjrnQEqNIXbDXAywFuvlIbXRKDftc1TelwSgrxdjHbS2hSCNYYYcMyFYxYaqWNgjm+CKmkk5s3KRcISQZSy1SySyCAtZmBebrfwuYGV3udRvSx77tylPnNcyd14bdq/KKGVyRSUPFs7QRbREXxR0EUwpDxa6qCo5QlqMRtoM8xi2KAqaAHmgquPyN8acAdF1xdxGKM5jmMv6mmKWGjOu4Ys8quCwEq/IgLDSMbyRPVSTbF8MeKhDCSsAm3MkJJ+oqFS7ZKOqrLAyOu/r06oyVOlJkj0gqdpgElfLJXRxVRfcla+4Oh64Kx9Vo3xnulJV8kkeuGt1ZBUYOXK8Gqo6TtmWOQdyFlYrI21WQZMp42p4UyE5NdQ1cnNmkE81zH5IMcpVyJRtJcXRSEtQJFp8+f9v7+1jbmvTurDfdd1r73NemJkgDrU6A41pMQKJsTLFEFukQlAGCiU1hTigtECiDEFCKHSiKTRADNIKJB3BUaMQSwb6MYEm1iEQKMGCMoI1EZKWSFHAdhxbGz7ec5697uvqH9fHfa21136e/ZzzvOe8JOtKnmevtfbXWve+92//7t/1BVJMk4BZwSy4aR2NTd5opDhNDYdu0sasjKfccCDBo2bRFydtGbkhZPp8OAQByzjsOmckzNZ3dJ/XZldKGQ4gwZIXDsAiPSQLXoKytKW2PICZBmNm5H0JzMGYWQswY8miCzM4Y81bVtiyFiefaj2mRlrVwTace1KeLwDEfuErizb5wlizCHlYkP0YUYdlCqqPodj7oIyrySOxErl8Ibov+R7EOlzGKIw5svoifbrKGSdtC1C+6aYjn1yyuOltwY7nuUHEdGPpzUqlCEE7DxCutz7nciVXnNBAud2yOv+JBmMuMmCu3gg2FwlGDNjm4gw4MNuLiQwWzaTupOyYPCsQPAN9wpFnq4OhJlswyRhDKqsRUEbBbNk+r83uWcSoAHIboXHalo6+qh0vQLkNwM3HtQLUhUUbe9bFpBrhc4qMQU/NudJgbINzmdwKAGKV3WKpaPKFfxFC7vWsPnZpgsQjL4IxAx55QUD3zEAKwNb0bANkrKX5ctVXH6Q2FqRsjsAY3zvMwor2QPyHsgj96spn2nI4+mYxHXkByjKZE9Ade6fO7tgj9M6YZ4a6niyzs2QhYC4MWW1llUDsqEUVqIH7MWZ2OS2OtwHUg+DYMVV2YFYADSoKYdPhtFmY3NSAxiP55UYKdPCMWUxXPqHhxM3SteHask44oKPTsibIlu3z2uxuYM606OIArBpzC4mDhpbcLoBys0gLmZYOv8qS5eCTqjgCkzVXzbmNpZCSLqvK0S20onoJRRe6nfIA6pQmnDmLx8KRkL1V/GCkzozM8GP/YgVjDnBWL9ZkiX72RdRWqvBVUF7Vql6bgPB01+Key0bdZWeHoS0nUz53/j2VaQnK3UD5JAbIp97QO6d8sWDJJzZQFsq5FGx5IZ0FSMOnePF93MWYNacPOR3w41KAWsiITM5h21e2FHVbLTZTV5TAbFJbRHAAwLTKNHwqdpxJjTFr1NDwVHTiVXGmUW51+Zns8xq4TxEjT7/WxqYth7MvNOWJh67cyDTlAsr9iARs2y4s+TCAVxoMlFld4nDQJUCbjuVZHndnBw+gpluAWSsQi2u4Sr6epSFv2KzMLxDN/kUSO68FcIcG7cxZO0BeOV2ZwKwuUzjeEkCdvfyihRpalmGDqlqGpcSDL1/H7iR5frPCRZ5+rS3jlZ/IAU/c6feb/Zi68lPXlEO+OPWGV08HzN1C5G5uJkh3htwLGHefUz7PeLbblL+KD4PKcWAloV3DOQJwy/Zi1enyma1M1YhRkKGZ7XvGCjkQuHlYXbMojakz5maAOitjZsas3eKe1aSKCJkDA0/kgMaCJ3oAQ3BSxgFiRGfrGvZ5DeAeGvOiyP0iKgMjBnmhMy+Zsi62l7KFTFoiNDSlDNsuANwGKAcQkwM18ahxvABmKqwYA5gVcOeLH3OgNq1PTeNNwAYAsqpyoSuTyRwstJBNxiqMbILDHs+qyU5CkjGtXs/G1K7BdegLti/5Hsas6L0z5sKWl0WI2GOWOWOUA5RPrifPHmkh3ZhyOvdcsqBu2/kjPtNwOIux5Lq/iAgqTHmBZ0mJfbcCM41birkW865prgTVV3XxvaV4K7HniAImJ9v1hZ3a2GZSzMpgZbDXAzlpw0F7jmWwZntpyo4va9vntdkzacy60JqLthxAW8LjbB8LKWPozD5JKnsOluz3xZILrKBJEoypacZoWgiQllO8nTGHpizpFTfmrJ0GSBNnXGboxuYpovGFIPvxQB/fDmlDVZHm0rdLFrav44dKAapV94qD9S6zJd/uvX4oWzr+KGOaU1v2OOXq6OueKBKg3Csod7Z5IYMpJ0vunj0aIZe+Isss0zUwZwnaKxhzasxYAjQXkFZKh7olpRLQjNwIAaSeQxDs2UWHCsxz97RuYZzIxsWKH6n9cKHhRK61Ky0cgLfZPq/N7q6VUUE4wuVcxpDJwuNkIpMzPJFEJuSfuqZc5Qt5BEgBZDmGpqzQgyY7pkmTHZOH8LDHY7YmFzOZ7LzPZ3AWgtEA6GXGVcSWihDkwCZ1OIvW2ZajqgRq48umFBmAnh0Iu85wJFpIEly+AOKbw5N5p6EMmhgcxfSFF2nvFqFxLmlYWNHOLJ7HonXUqAQ3ebjc0ULmXFN+VY542ic86ROe9AOezqYxnzrj1FvKFyIEedoWgEw3NBjxPNixgTRGPHyJ+lmHatYMVGAbnJdsmYacQcGSMQB6xigSxgBNwaLtnGNbjzq2m2IGIJ3R/bsnCvQWNTSG/PBqOwIwJv1EDx6tYb38xKM0JMd/eTH7vDa7f9lPoCy7gfDuxge9SLWOkLiVfFFBOe5Ds0kAZ8nUjCETe24/K6ape/KhYGJJICbPVIqg95ijtdFk1h0o+10Yk1IC9cycGVizT15hB2d4dTyxyWMMmlDnkECNAbtpC5lEy7j4NtEyCWDh+KNbs/7sOnZm8VAWnUkAJFuO8ptRZ3lWS7EOptzd2beWLxYsuTvIeto+u5+COgykA3iDTYfW3AcQVwYNjNsKzhpqWoKzJkMOoFax75tHy1mZb7XVIGOwaCtqT/Z97ABhxNJrdzLhsgbBOERnsfHghlnFa47wchz9+5c9ES8Q531em92vg0lZcmsCcgHYBSBjmcW3kC/qvg5QZmfKzQC5+W0EvE9NLCuJFIcWwGySxgBqXQDy2mrhmJmslE3sU1eoTzLAsrFI7Hq7+vV2kzgCmzUbm5lVoE5HSyOo6vKHq1loXR3HGiu+GPcNU4xSkS/SiOibAfxJAL9NVd/wDM//3QDeC+AjAfwMgC9S1Rsi+hQA3w7g9wH4AlX97x/wtC9abY4aHUk6Rt++WZr/cUoap94wdweeSK0O+WIByjRqqeS+AW1KGZmo5PuqC8acYF315gu2iO0PHkWAkkUaZds2YLBl901CATTykDkAsHNVaIKzdgYg5noRhrBi7gyihnliNGHM5GNGgs5jHKt+X8f97Bpe0rx+vdn1P00OFlm1LYsODeZ8xpaLg2/s6wKUdbK/BOVJ0hPcJkn5gklxnPoAZmfIwZSzWHcB5i3GXMsqRnGZLnZLnpLavZSXsHpygH/5GBASqHLWtB8RPyFjuLNRx/XndmHNOWZeQS+6kCtF26nbtThVvCxm8T8B+G8A/B/P+PxvAfBtqvpeIvouAF8C4DsB/FMAXwzgax7iJO9jA5xjjpjjb45SnKDBloXRxXXTkC/C0ddXoDw7ELvMlVKGYLktAEUGqYYMVmSObKhQgLkCdOjKC415kCaP4jSAZoCx/I5SALNavL6o+XhojlWmg3M3kiLd5L7e2ciQ2Heok7HmHDPhHMutcd6ylzivX1d2RRzzUvNEo3T4xa24vpxsePJY5ao1Hzz6opmmnPLFpMBBTLpognboaM0Y8nHqyZIbe7UrthY4h2YhOux5+3E8OjVcslhajYljy61gQnH8ZhpfxLkzbli8xgGhU4N2tokKNn08lq1qrINngrjT0HgGgSfN5ibiccwssHEU067N+1I0/QuShoBw8xKYhar+FIARpeNGRB8F4LsAfIwf+ipV/burxxCAPwLgT/ih7wbwDQC+U1X/T3/M5Q/vgU1Us9Tn6FKyil3uE572iFtueOqxyvPcMM9sccontugLcU25sON2U8D5NLRk29YFY86U/64LB2AkOV0dxxwkqWxLG7rzIgrKa4mnzOgOaVv5qflZcpVLgDB0UvTWFpXunvZmfp6ueNonKxdKPcfxRiccisZskpGeSRova14DABH9XgB/A8AfAPDnVPW/eobXeBeMbHQAX6mq7y/3NQAfAPArqvrZt73OvX6aRg++IWlkjHFly7mPEj85JgMYC/kiQJmaojWTMBoLDs6QoxzhozYnCB95XoBxtMS5DzCH1zjAmN2jHOz7BKRTUZQ8+IIhYp5qgKHdfmQIQITCGUNWRKxohv8tximiTXAWjaFMd/iu7b1eZ0u+74Ax4Z8goo8B8H4AH7d6zG8H8K9Udfb9Xwbwlhd4jhdtsOWRkj2r/1CrL8Mjg8+TR1TYInY8umfIFlW+GGA82POosQIZ+8GSuS/BOLer1rxlVL9vFZiHn4M89FMaRks08jroAKhMKYvL9xcmK3GbfhYBlOy7ECvKLozORnJylaE8dGXczpYBvOx5/f8A+EoA/+GzPJmIPh7AFwD4BAC/C8APE9HvUc2mnX8WwM8DeNNdr3V9EaOxYwBTHQulmeoCiC5JGluacgCyg/LUOg6t4+BseVrVhz2ytbg5OGMewCxXaMw2cSIo/qSMiRyYyb6QqtbfrAvjRFYaMV9DomGmmJQTDnONL8G43pAxqI5F6MoLBw08nGm8z+2tpfCQzOLNRPSBsv8eVX3PPV/j0wF8fDn/NxHRG1X118pjtr6Vt0HNa261VdNwWo0efLWgfTj9ovZFlOisySMVlLloyjQPUKao2R33Sd3W0ohB81jqzXdozKkrF+ksnp+xymRfPfN/wFZ4MMcezUhU4E4jEaQT4PXHFTAmzcixMFCWRSOAI8/elYXTiboc9/OLeeB5fS9T1Q8C+CARfdb6PiL6QhhoHwH8PQBfXgA37HMBvFdVnwL4RSL6BQCfBOAnieitAD4LwDcD+Oq7zuUeURmVJft2qaVcY5WjglyGyx38/smz+Q4efeGacsgXrQleOZ4weTWrDz/cmITBHRN3PG4zDmwSxiOes+XNoqEkjW6/a6tdimtDzHDyRPnGkzQ84cniVj1mlQD0qWPuNmmYFZ39y0lDc9ZuTFhAKJUQ7TnhBBQbD5KxRIwKfsmeb0kuAeBOktsjN+5hH1LVtz3nazCAT1bVV+tBIno/gN8BW8J9GYCPIKLJWfNbAfzqc77vc9voYM25fQqnn/Ii9Xr2+hfSm9W+OHEmj/BswMZzaMxFvuhAe6rp9Gs3A4RHlcIA7JAyondksOdyu7IMkYvb7P5jAMpthMFJL99ZJxK2cgUAj+DwcgisllglCvDJE04A6Ik9urlhBtIJ2EhxI5NVoBOP+ab4sfNxVt7+icaDz+sHMSL6OACfD+APqeqJiP4ygHcA+J7VQ98C4KfKfl0RfjuArwXwxmve8+oOJkP3REoYCy9wWT7Fcmr8cmth0P6zz8aUeSVfTIUlh458bDMmErzSTsmMX2k3CcjZ0Rej/XqY5euXX+r8ElJ2MI5uDABwKEw6mPdMioN0sE+YxvGLzpCmEHWHoMS1kjPkkYq9NT5rL7oSLarN3eYAVH15zOKC/RCArwDwrQBARL9fVf+hqv7R+iAi+lEAfxwWmfGnAPzAiz7RaqPqGY9ld0YS0IItR9w7lLL+xah7gUyxzpC4tXxRWHLoyAHCfNJRMGtWY6cRpSFqv+7RHDisNFUg6FhxsTNaMsmMmLLwVq7S1J2Aqp5Y5WFzfRAJsmBjgKJxsDcK9mu1OH+b710Jk1IJN1yOY8hDUec66mWs7TWY1w+xGvw0AJ8I4Kd9RfgKgA9uPG5zRUhEnw3gg6r6D4joU695w/u7P+svM48swKpnLfTllDX8k3enH7XRVYF5gHJ0Tzhyx5Fnly+snU2w5APZdoAyQ3HgOdusx+3aMrjdv4AsakW+tWdQ+0ktg2lull7KpJZMwA03gFfaMhC374UnkDSvUtewAOgzScfTsBdhcsmUcSsYV1NYrd8XbUT0F2HOuw8jol8G8NdU9Rtgy7x3E9E/gs2rHwfwpzde4usAvJeIvgnAzwL46/66/w6A9wH4bQD+AyL6L1X1E17r66nWC2OWNciodR4RdxgPUKYByKuQuHTsRe0UWYP1kCqobgd7Lp3YUdmynAPacNAbgFoonKbkwBhaM3d4UpVC2qhmp2TnySDzQZeMVyILJw3Qj+tWoQwb7CLL8cpbTjnjLnsN5vWtq0EieidsJQcAb1fVrRUcAfhuVX3X6rmfB+DrffdLYQz5o8tDYkX4OQA+h4jeDuAxTOb7W6r6hZfO64oOJkuHXzr+VnUxIuX4LJnEIzF0cinDM/pocj15suiLw2Sa8ocfbnBoBspvODzNQtwTdbyhPc0eY9FfLFqmD5CWbBzZMMA54yd1sKMTt2xJv+52zCSY3St/9MiIg0w4cYMCOLGCyYqgd+J0DOocgjNBZ/P8s5bloQAivtTsNfGEzsZ4Mf4rU7UiMi/aVPVrYUuy9fEPwZZ7dz3/n8B0t/Xxn4ZN5Bdm3RlbxC2H4y8iCSKG+SRtkXqdMcveMMEkDHInnssZnkTCJ5cpuskX0ROy3ag3UFCXNgTZGzIYs6oDumSMc4ZCVDmjzJV0yEfLYTuzIAAAIABJREFUtyBQfXxnDakVMhVQbvDyADAW7I7s+B1g2HdYyGpr9AOA2WQ8ZbUSp8xovQ0ZSEZ0Sx3fEcu8zZhf5LxW1XcDePcdD/sRAD9ARN+mqh8koo8E8EZVfR+MTAAAiOhVAN9LRH8J5vz7WAB/X1V/EsC7/DGfCuBrbgNl4L49/yI20ufB2nGF8reQMyiW9e7wW6VZR0jc2tEXoHx0dhws+cAzHtOMA1mUxjGAGZKMGcBCZ+4RSxmMmbztulrERbO1HVgsocVKF4bjY8KxWaiPMOHgTg5tVhJRolyoX9uIwggWvByP9ZjV8QwGvRj3TaPUu3d7dqsx7cGY43jE4xoDDJaJLH4FJa84OAoQRf2LwY5rhxstMoYmYCdjjsa9XVxXVqArSDzdNMAZ2ATmlMKyXK2n9DfXynzFyt3i9RlWWY67AS555AUoztsIBTFcvkAWPorKilBn5T4+oudjZ+M5ihnVcT+3lzeviehfh/lC3gRAiOirAHy8qv4cEf15AD9ERAwL2HongF+qz1fVf0xE3w/g52A9B9654SC8yu6dYJLbK3DOCI2F5qwDkELWIGSaNXtWX4TEpYThmvIWKEfrmkd8wpFmMARH6ivGbIDcyi9yp/EFFLIJ0szdAyGrVQEBGtvtI54jIg6ABb0fvYXOUxY0YWgkv7BCxYBZV9caujqVsdFYchZQxlrGuCLBpEaK7PbsJoWhhYxhx8eyXMufpb4FOIe+jEyfXv8FSHNx7C1AeQ5gdtY8iwGyFW4ZIF1ljA1gJqYRB98s7EKJSmsqm5w0q3/zR53wlDA8FI5odf4UoIxFQkqECtbxqeMW49jLGN/q/HuJ81pV/y9cWLWp6vcB+L4rXuObYZEXl+7/MQA/dtfr3F9jzgw1JJhsMuYVQNvxc7Yc2Xvh6Jt4aMoT9U1QPtCMx3Rj8c1k2vJjvkkgPtCcpxvOvyixcsIEoBtQy9E7+E4O0MFUvZCKh1QIEQ7eHVj8/KTZQoxdIw/WDAd2hONF7hofWgL0HdEYYQoLSdrt4WxkqEXG2hqUBz4ugSlAbFXKswLy4tjQjlNPDlDuDszBllWBuQ8glrEKJNGRWwD4sgwAEQjNGv02n1z5Q+/HPCwui3D5PIzzDY2ZAqjZr0+cbHl5XJQxGc1lKzgPbVmukCj2eW12fVSG3w4NiwojrNtFZ96oiUGeZj15Vt9x6jh68sixWUjcK+2ERzzjDe3pApTf0J6kbPHh/DRBmSF4zCc0LB1/C8acCQQjf/+Anl7ik07WcNKzlAAr8n3wHwdRtkzDfsDNNGch/OM0ViqqgEwWoaFqTEQtomhozH3IGstEExoRL3foy/FetQzjbs9mOS8wIjJG0lHLdP3obi3Cy+pxGX1BI1Y5QuZm9W2vPjirRV90NU25D6bMNz1lCzp1oEuiHQUwbzBmAsY8KX6KRff15mIxcxbZ0sYj25QY5GGt3OKlCTIbiwYcqGeYE5DV+1e6nNFjbBRdJcsczNIW4xnRL3Xc17bPa7OrGXP9ZY56GVk3Y8UINdjx4rjm/Vm6MzRlZ84TdXPuedxyOPqCKQcoH1xfPmCEyh3RU19uOC9kdIAvqcgmW/P4INOSbWl1KGlPB+qDMTNh4p5ZYBN1zMSYONLFbSJyqYFRr598P2JMF+OS46ijToaP913ceZcyHsYqSKQvIpbhqKwZY6kTMkaw5SprrFjzYNS6SBqp8kVqyV0NlF1XptjOyAxdsOY05jHZ2H4ktHEBbUshUbDX3nCdzpkxKM6LMkMw2PKy/Oi43rFyCDkDgy0jpMO4LXLRHTN7n9fPUijfbcvxt+UYHKFhMBmDDJSZRz1lhqVZT+74Y2gy1QNXMLbbI3Uc0F1bnj0yoycgH7AxcWHncAKjOUBDzUF4wgQoFq3WQw7pbJlNB+qY0VxuEUxqVejyGlhAZPu1EaYV8qdzB9/G2G2N8yVTUFbB2+35bamBjuxQUc90W4AzCiBhAHEBZ4qY4wrKi4y+8ldAmURcVx7gnOxZBLoFyoA9h3kANODSmrcCFgdlCBCMlIakYrWY49zCeejXEZ3idQD1uP4qZ/gYxRhilP3cGuct2+e12TPEMccfnSWSjJhljNoQHrec2rInk0wsODSLxIjwuKPHKr/SbvCIZzziEx5T3N6kfHFASBkdx8j88zA5A+lxujXzDgBOKllE5eSJJDfUcdAGiLHmk3Z0JTxxhyAYeFQKgR9Db24WoWHdSAjiqeXkjkA091h3ZEr2Yozq2BU2fZVFdMBuD2aZig1GdWD1rI0x4pcziaT79ipGucYqj+QSj8SIvy6g2f9CvhABnebBmgOMxVGxl9kc4m/sNkb056TuIM0MEgdnZkCcRSdAMqhpfk+4xzxUSKcRvVlYdF57dH0X5NhEevZi/DJZ5wrA3ec1gGury2USyfmAraNezhgz/DYiMoBkmVE/OVgou/MvMvoGQ57T0TeY8hKUj2TqVaORxxIW2x3AgWAdFZwxn4hxVAHIGbPaeTZSHDFDyLSxA3WcqPn5OWsWe/96PbS63rj+xbjcMn52rBQ1uhAyp9i1uOc1ATIjbWt5vQ7p0rqv45YKi0yWuWLLI3ojMvk8RjnD4gpTXoNy70NfVlklmETjU7JNVpMVsPyNJy69QsKxSAolzWw+Skemju28niLfxPXWcViPz8b4YTXeW9x/n9dmtwPz1g+XA/RSI8WZzrzWUbECMCaUesohXwgaJEPfQppgSEoWpinPZ0z5UAC5EW3mGDUAXe297UtpEz3A+URzloA80IyulpbdVFPLnsE4kGCOLEMWsHB2Uok/DY17oTMvx6WGyo0wuvNBp/jSVduZxXOZbhzLtOGikYZmGkv0sYzHojYyxX69vwK2a8RD5vB9LeAc+vGaKXdJQNZLGrOajGaTzZiz1hJNIgbeFZT9/YdcoSlrxPnr6npTW8ZaZ0ZKPjFewNDoL/74reF5n9cAnkXKWNuaGddjri9XkAKVHn1AFravf5lm7Wz5GPpxgHbRkhspDtAFKB/KBMjC334/CDmzDlDfN3BuakzdYpwVR+oQZ82jDsf5+cYqoMXMzR8s05dDZ744Ts848Nr3CfxaWo3FzbDhZI4OXvHghb6MBZBVh1mmWQdbFhkgvdaSRWEVhwoo9/ILLTJWVL1DW7MfAxZ7HtoAZ399i2tWZ+I+N8VkCVIq57m6jqoto3yNUmdejlMdu/vZPq+BZwDmZfQFLY4v/uCP8xoZI3bZQDmiMZrLAocShbF0+kVkxg0e8wlH+DGXL4IpPyZCA4HjtnJmP02BAb5APR3UNOmT/9wfQspg4IQGyNGylYhx4DmdgAfu3gOO8/y7EmayyAzxazVN2UBZN8ZojB0loF89lxXQ3UnyoDZil5clKmtiiTnBKLtbZ/RFAa8ar3zu5AspQyw0riswdwuJE5MxUr5wpqyneQD2ulZGaM5M5uBz6ZHsgoDm+rI/jmZAmUGw8oZa46rz/JZ6Mup1pSTjWrODcoC0FrYMRA/FMa532j6vATwAY17LGsv7yk4ljME0nUkzdPx5lEbIFs0z+SwMbqRcN9JMsGvAGSi3rcgGdRcHAdAR52zatEkWnQRNaby/jvev5xd/W9eTOnMZh7OzqfLF5sL6CrvgoN/tYWwkSsR+vXO1nct7PZM5Fn/iLxS39U9Wt6Enr0FZNz54YQ9zcxYtasxZafm6tH7POB86P1eMh1sqOC3uW4/DYMtYyBn3tn1e3xOYr/0h25I3YpdKKYgzWcBBkEJ3HrcAFjHKBpxFU16BMm+dbNQ9dHBusGWYEKzYkIOzJGD7+6ucn9vq3O16NiTiZ5Etrhlnxb7ke0C7is0BZTmIJQD7/sIptpIBsghRkTQSzarGHIBcNOUKyrpRXY5YFuCsrmfnCYjY5Kzv5xKGi8PjR6XIMevryffTKu/g6qXeneO8z2sAz1orY3F8tb3eB7B2/MVdFZAT7MKp5qy4Ovzi+AFDwghNuYLyVGIyGjG6MwxGg7X+NXA+OI3vas7Dg4qFS/n7dZA7/uIHYdlXsAJ0XQ0sHYB03RhdO971IbuT5EFMLvwS1u4mugKmNTinJrs6tnAU5nEdQOiyRrBadTkDKqkpL0C5asyqOU+0wwrdBziH5qxiTRyaxznH+3kGnyYgl1hl3bgGnGvPi3Hw7bqqkAuT+9J4h+3z+nmkjBUrXoTS3cKYASQ4b9nodr29nqkZfQ2DXK6ZcivxnbHdVez+wpxDCol3Yw+jO39fMfnjwnldvK4LjDl15Y37rjIlYGcWr4nVmFsjk/WDwzYoud0ytUdluK16ysAy2iIANLYrU67olyESVrQ+mLNNamfJwVOqs3DxvmotpvTyyW9e1wU2nREsGLHhV9s+rwE8RFTGM9pY/t8C0kVftv1bZv0DWn2/0Jkv2TXX8ZqYYp/Ar1OjW4A7req8sf8ibC2d3Pa+hSm/sNm9z2sALxqYrwSvLQBeH6u/+7xa9le2vD4upTwqE6H7xFw/w6I17j6vTXtBIH0Led/tRdu1H/kGENKaQVcisI5ZvgSkqstVlwjQ2vnr+fudSb3h3LvLXsDU3uf1iwbmKx0EW4Ho62OCskJbTcqusgnOfTVBpUzy9Vy45hwu2rN6o+9puxb3OrJrP4qt7Nl1wSpijIw+XqZhVwfeba9bJYvVd0G3Sste4dOwx133sOexfV6/RCmjFtG+ZNHxoJPVU651lV9LCwAe6aOXnRXXXMdrYoo9rOh1ajWj86Jd2ULswa2+34VM0/FYu3mhU3uf1wCeB5hXThCqS6E7HCS3xTeO1jMXPOUlKNhym8J55w49EjBasuMalQF/XFfNVFDBMtv5EsBmEfVbwn02r+tiuJFevO9ao3Wa9m4PYhEZBCCzOtPucGxvxqznfQSCXm6GwDyki+jN17ttC1u9C+9abS+oC2AlJkQRo3y9+l6XWpVl84vL38vNr8UFx3bWjAEykuk+ts/r+wDzRW1rtb0ZUrRqzeN31S4HUmoURDfrruS3jBMmP644gXFSC5nrLmNw/NRarFBGZ1RNuYJy94w/2wdOaiVBo1bGSafM7+9KeXz0gFt1uchhWrUgunaMrh1vN1JYf7bdntv4AkWrgEIr8FlGJI2/9bHN+iilKBhlc1S7k5itSlw3gLM0a/EgIiton9EZFQwLKBMR0JoXwmKgsYXKRRKBA7aW89iqd7O4Bqyuc+vHaUXALwHypfEG9nkddj/GfO0S4xbGXDNKa2nAkQob7ePZOvJ5jz6go4O8yL0BNntBIkRSCPlJRqXvlVVQFjVQ7vDa5KhdfF2ewPI8Fue2One7ng08fRZWfOU4706Sh7NL4ZlnVmqhnKXQrwErgCwqbWbVQG+KwLCMO2DIChylO9WAWmAp1BWceeNcKygz+63/ES+qROb7cYRtIgEafr6LgmTra8MGOF/p8L5mnPd5/QAa86Ik4Nl95XBduW9VoIo/HW1ounezDp25gz1tWtGV0EgTw3q8QQXnlS1AGQbKnva/YMXRzj705VGmcJxf/G1dj+a/MQ5nphjJBs9iui/5XmuLVHsuWDbuXG0nqwzgXd0XfwHGcVu1XmfNeUtsadUBtgWcz6yAcr4W1e1yu3hPlNvVHyrTj0HYuPYcrzyVRYmCe9k+rwE8AzAvs5mGrryopOWkQhXwfOdFIW1V7wlGiq6MWdhqHZPgpM3aPYnixM1qVUAAOeIAb/ekwMkTPjqsuhw8XbshqstFosqoLgcg5YuOkC+8aD7Y+v2h4Ykc8ESOeS4nbTjJVLbtbxbO8+/CBtCLgurIGgS0MUZjTLWM6T0/i90ezEYmp1UtDMuMVVJnvqbtKivI+94FMw7Gac0QaPTBZHgPSAdBtgw9NEU2TvUewtRdBCAGxNdvnp5NvV9OGAn5gk3KADcDbDY5A8zQqQFTs3PxQvp2nuTH1n/L69LF9Y3qkeQTnFaA3DJLVq9elbyseU1E7wDwdb776wD+jKr+b/d8jXcB+BKY6+orVfX95b4G4AMAfkVVP/u213n+qIwt2SLBu1SfwjjWlTBpaUGz+uvKELIGqayaNSvEwbN555ETMaBR98LfPDVns74KiQtQFixBOWSMkzZEY84bb8x60slY/IaEUVsP9RTh7P2iCtmiBdHWOD3juO/M4rW1Wgcl2XKwjgDneHAwSwcvKnqsVlCLVOhGvtLkbJyqjbMdFAHQCAr1gkQkgLY2HISttIOo8gXxEpSdRUcPQA1m3QyMQ9JYnudSF68ddwCftrQajzJOdezuZS93Xv8igD+sqv8vEX0mgPcA+IPXPpmIPh7AFwD4BAC/C8APE9HvUU1H158F8PMA3nTXa90OzJtL8CiujQJAGGxvwaiL5rpyAEYFKmtDY061k0sHJ204aE/dV8idcSCwOwJvqHtxewPnEzRXh1110cEkLAC565AvApRvsHT4GRgPwO5q52XnN1rljDY6uOj42xqXBTuussaGtLFZtAY7MD+P0caxyPSMmi3AkDMW3WkKYMWxtbMPKzBTlxGUffXoerNSdKoOaYGTBSc4t0B7tdoXW9ETNSLDATpBuYCzpWivHX/RJo6y4/36/C85A+v9tBovICJcdJHBuzjtVSjqy5zXqvq/lt2fAvDW2CGiLwTwlQCOAP4egC8vgBv2uQDeq6pPAfwiEf0CgE8C8JNE9FYAnwXgmwF89V3ncjdjjoaQUexkZesfRSpgvag+5RW2gl0OgLbO07MwJrKW5wfqKRs0aLLmk04xW61HH6GAsy2bxAsSZe0LLH1pJ4345DUoN9xowwnNAZqSLce5iFpLe/HznZ1B1+vR1fXG9ddxuW387JjmmG92q4jX3J0kz2VWJ+UW0Fh9OGdhc34bzr0BXpTLe3VJI7LtQvqASwcUaNdGbQ4qGrJPdy/ZKSNGFMC65x9qz78KyM0jPULSCHBuBuDKcRvXU7bzenAO2HUc1uOzMX5Yjfdm8N7rZ15/CYD/GQCI6OMAfD6AP6SqJyL6ywDeAeB7Vs95CwzQw37ZjwHAtwP4WgBvvObN7y9lJPMbfcFyMLOAtt/6skSZgNBeO6F3xsxshblJceotlz5PZZzSUzkksgqRt5Bq1ptPrEffiebsPNK8dOfhltoWa9ki2PGNNvymPjJw1gm/KY9w0glPdMJTOeCpTHi1H/FUJtxIw41MOPWGkzBO3XXmztA+Gnaie9NKXY5LbtexKzrztfYymAUR/RiA3wngVT/0Gar6wXs8/3cDeC+AjwTwMwC+SFVviOirAXwpgBnAvwDwn6rqLz3kud9lEXPbsCzr2liswUM2QPCU5maFgwJ8TUc2vMzf1Ub52XKzPncMeGlLjkGxx4SDD/BiRPZCi84m7ZZQs8qMA4Aj/O4wmabcCHpwjbkxdCLoRJDJgFoa/I/sWupf6uUKberHFChjwxzt4sr4IaoyXqkxP+y8fjMRfaDsv0dV33Pr+xP9+zBg/nf90KcB+EQAP022WnkFwNac31qIKRF9NoAPquo/IKJPveak7wfMhTEvyxiutlEYs+vM4QiMFvAiDGUx1gwyBkrGQg8OmuEEbGwvetIhUByoAc5+o/OIFbm3Zjpbv9Y1HE6UcQN7D4uTbgnKp3pbnH6Cwe5nMTkjmb+wfxlpOPyKvlzH5dLYbY3z5c/ipTKLd6jqB+5+2KZ9C4BvU9X3EtF3wb4A3wngZwG8TVV/k4j+DIC/CGMpL8Rq1cAs64pl6zBKJ1f8qcsDcJ0WySiDNec+E7Sph78FS8WQvJhBECgs5ljtRLLziDFmZ8Jbq6gqVXAB5ADnAGXmTScfKMB3gy2X/WX0hua2vfWqZRyG429rnDft4ef1h1T1bZfuJKJ3Avgy3307gDcD+GsAPlNV/2U8DMB3q+q7Vs/9PABf77tfCmPIH10e8lYAvwrgcwB8DhG9HcBjAG8ior+lql946byuBmYSTTIXkkZKGysddQCSLgA6mINFZgBdGF0Us1iLptkjHib/UpykgdkFYQZudJzuSTtAyPhiMNDUpnaPEp2FfmZsciSNgPFEDunoOxXZ4sZvn8ghozBmKdEYKWuwXwP7j81YQSwAOX+g1mN0YTx9vO/8TF5HGjMRfRSA7wLwMX7oq1T1764eQwD+CIA/4Ye+G8A3APhOVf3R8tCfAnBx0j601XkSwBFRGQnOJfKgAnJ1mIV0QQHU/hdVZhP01BueNnsHQECNDJQhIxxOPd55xmA6Ysx68eNd49RCO57aAOo2QBkByq0CNFCjMMaPCRKIF2C9jnMuESsZYuhjGuNYAfmuYmAvcl6r6rsBvBsAiOhjAPyPsFXc/14e9iMAfoCIvk1VP0hEHwngjar6PgDvy/MmehXA9xLRX4I5/z4WwN9X1Z8E8C5/zKcC+JrbQBm4FphLqUBr5AjPpqDSnj22bWCpu/zFsR+OBoYcGPM8Xv5mav7yhCc8Geg1Bnv43COeky1bD8A545ije/YJLT/wA40Xb9BF8aGTg3sH4YkcE5S7UsoXJ234tf4YJ214KhOeyoTf6Ec87SZjPJ1dzugNN3PD3Bnz3Iw1z+wShssYdTxi32WM6K/m4Sku/+hivC/ZOuTuBdvfIKIO4H8A8E2qqgC+A8aEf8In+PsBfNzqeb8dwL9S1fiAqgZXLfW919pGe7Hz9mETdzRu7rxSdBYwE3ozgNQGWwUybGmvBJ1HAhWDIJMCIBDB+qoSwB2AMrgraFZz/sG/R52HtNH9+1aBuLDl7GgdFqFzRBYS51oyqMgXTJBjMxCeCNIIciSXLkLSAGSCSxy+3QCd/DpDsmkmY6ApmAXM4uFx0dOzn7WLq92Ituwlz+v/AjZH/7JLFrOqvk1Vf46I/jyAHyIiBnAC8E4AC6lNVf8xEX0/gJ+DSXLv3HAQXmX315gl2B2G1rxig3WZrgrXog28IUivtAhDWNGFcYItf2ZxvdmZKetgzE9CcwbwRBVHGECb5nz07tqSQFxLd2ZhIs/kiyiLGw+Pq46+YMpPXcYIJm8yht2eehsRGcIldjloBVKDr5LFenxGq6Hl+F5jD8gs7qPDvUNVf4WI3ggD5i+COUE+HcDH04gYeBMRvVFVf62e8sbrLS7Yvd9vA/CHn+E6nstCA43ektmdpjDm+EvGGM12M67XMvpq/LI0T+Rju1pVAtiAHBOAGSY7hJta2UCZrKMJoSFF61InI3OothhzcwmjOPqSKTsoh5yyjreWtjz/kGlSW8/rRpExlnLGol1c5hS8FI35alPVL4VJElv3fR+A77viNb4ZFnlx6f4fA/Bjd73Os9XKKAV4lsvzJUiTDG90ptixAbMwgTzhpAuDyAD6RowZMymedj89f/7BnX6dKR2CTArB7FmB3ptPz5dPUXyoZveFbCFK6egLTTlA+UYmPO0TZmXcOGPuYl2UuzDEr0HUgVnLtWow5CVAbyaUBEhvjffm5/GgE/hWHW7xtqq/4re/RkTfCwsH+h7Yp/TJqvpqfTwRvR/A74AF1n8ZgI8goslZc2hw8dhPB/DnYLGkT5//sq6zChitaKLVgbVojUaagJxRGVqW+YqllKEFoEFQVchEvtw3cFZx/cPfm8j7/XVyLcRXVLyxmnJg1pLJF7JFgHQCchugbMw4GD8lINdzX/wViQaLH6bl+Jz3wtSVhn8LQD/svP4ta9cBc2lxs3bwXWSEPpfyfgm2jBGh4ax57gbMJwfnmRQ3veHIDDg4C5mTT9iAEIzsySdE6GQ6NevI2qqdR6J0Z1daMOaIjzYwHpryU5kwa8PTPuGkjJtuTLkL4+S68tz5nC0L+Q/SSlOW1fjocvxiPClkjTruF+xFO/+IaALwEar6ISI6APhsAD/sd/8QgK8A8K3+2N+vqv9QVf/o6jV+FMAfh0Vm/CkAP+DH/20AfwXAH7tPlMfzWrQSi47sARqLbuikTkadNXvGG8hJh8cmh3QXUWyZ7acKhGNNFdJM5pLJNOwRywwnzWzhdhqsGQnKuiVzlfoXCc7h5HNnYIIxm2wBDlB2GSMdlOW8C1vGYtsiU8L5R1z15fOxs/EcHe9z3C/Y6yRc7qXa3cC81YpG1fVRLbqygjt5rObQVpkIQurpps4wZvukuy/rblg82cQKhh+k48TGnI+t46lMOHCHKGPijgN1POKDhci5o/DAczZMjdu1heMvbk8yMvoW0oU0/EY/pnxx0xt+4/QIN9Jw6g1PThPm7tryqUE6QTtDZ9eWZ3PYUAd4Pteaudt45dj5WK7HeDH+Z5/LS2EWjwC830G5wUD5r/p9Xwng3UT0j2Dz6scB/OmN1/g6AO8lom+CRWL8dT/+rQDeAOC/cznkn6rq57xWFwJ4l3R4C7NIhIC6H6NjYvs7cMfUOroQpAmoqXeiNqQKgBUl0IRlGQwB4Nl+UEDd9wDYPNBmq0oQj7nQ/LsVLDnnhq+2tuSurBYHZKJIRIcsgBmQY9luhH509twAOTh7nmIbqTlLA3RSyAS7yElBPh6tCSYWTM3HK8bOx3LR3T515g1la2fMAJ4pjnk5QbLleeqq6ozRWXPG7VrMp5Vzi4B1nxzC2earTx0sjBsAB7FSn8c2Q5QwkXWxnj3C/kQtwVnElobNu1eH1LJ2/kUUh0Qcs4OyKOHVfrTj0hbyxay8kDDm0Je9PkbEZ6NTphfGCgEJvgOER1SGno3jVaFy8O/fC2YWqvobsHjOrfs+hCvC21T1n8Dkj/XxT3/uE3xOC8YcckY4skY8szu5KGKZXdLgEWURTsBYGVUJw3Rley9ttgq0WH6yDtdkr8Nw1i0O6L7KTD9NJpgUzRkYJUWD/UaoG5tTL5JHkiHnbZEwiqSRf3Fd+bhx3cQ+Piw2PnW88lYWWvNt9jLm9evRro/KyIh5ZGTGYikeeupq2Z4aa0QgeCwzBNDOEBL0Emw/d5t1ooQTN4h7nYU7uB8wK2PyT27ijhlsSSXUxySAbsZLBiBHzYsA5A5z6pl8wThJw42HyAUgn3qgSNN7AAAbjUlEQVRbgHLvjN4p2XI4/eJHKcD5bCzK+CzGLyIyMtmksObNzwTgfh2I73bZWokWGBlpNSligAz5LUhtVZjg7FqyA7Symr6rBmqAfazURugyNbKlv68i5TBWVQInMuGz6YMMaZAiAEAFZQfeuG1L8qORMJLFisLJZ0AMRiaXLBJKPIkkJZsIocukEgCr8UlwLuOY6e6+OrkYMrfPawD3Ycy+nDJQLnJG9wlXQuSIFDw7oMIn4wQrk6k2KdXBSJXRqUFETTsG0Lhhah0K4MCCpyyYSHAzzZioY2LBkTuYBAdnN4cMzZFb9asscu/M2ADa6nXceMW4WS0krmrKIV90YZxObWT5nRiYXVueCXSilCv4FHKG/VHXpZwR8kYsVZM5X1iurmxf8j2MJUsujDmX4yI48oxD6+ieTDRNAov3axAIdLaiQ0IAdbJbVq9saN+PkPLUZSzEY30lxS1+yE0SrOGUscpaOIs3bJk2PXRj0ABhTW15AG/KF7E9+X0HQCYdcsZBc1VABwFPCm4d0ySYmuDQOg6t48gzJpKUgYIxx4/fXdEZ+7y+EphVR6uYSBrJUDjVwgCHhFGX8DYJkVlT1P1XHQC6MWdA0MGWUOJ2YtPtmjCkdVBXzMSY1DTpiQWzs5pZuTCcyx987ZQSwByZhzcyWUafUurJEX2xZMoOyt1iliERt7yK5a5jUOWMkDEWUtA4Xsf98oeyL/kewmqXjUaacoatuuwH/0ZGLHOkZzMbQaGIYYbNf20uNwAQHTHKFnkRRMVlPbJj3H2BxL66JGSM8mKFJbhd6fKokATmAtIZcUFIPTmjL0K+aAWUGyBFvrCYZb9tzpZJcyxaiWEOotTCCZiOv3HyF9tN7fMawD015sz+CwdgLr2HfhrRCBWMYsKRT0Yr7WaOPiWUugFioXCwTDqmCIqX/BgnFtN3G2GSEW/6LMAcICzKGZucIB1A7NEXEYHROyUoawFlA+gKxlTGZSljLBNLsCxa5ON852eBfcn3kJaJJjSW3RN1MCZMzqIbC0jYkykIwgJSD1IWpFSApgBCcx7vkbKGT3zTl30flN8V0KhDsyV9XTTCAoxriri0EdonAb4BygWMh6aMBSgnOFNoywDlj5SYjMHi42Y/bJP7f8LxV8f5lkvY5zWurS5XIwa6fzCi0G63PCOZcKbrz16zAkA4QVgIOll4UHzwEJiq19VDiwjS7NdY8ktgH+xx6vblIMXBnTBRMKWG4dT4ybyMZDGjFVRozZEocnJnXhfGzexsWjyk79Ts3EK+CFC+cQnDve18gu/bNndbxvKsGalhUobaMbExjVsPVRlyxm3V5fYl33MZExlwqLosNuPoDuX4e9RmCAjH1s3R2wg3bQx8J0AOHgUxM/SoLlfYPADUP28DSjojK7Yvs+aPt/Tyo14ZZJUyKnY5KV+U5HRgriw546yrlMEuX8T+YTBlkzXUWTKASYHJozCmbpEYk8kXj1rHkTuOzcbsUZsX43ikGQeaM2rK2DWffyj7vAbwDAkmpM6aI6bZAfWMNccS3iWMkDTQqTBCn0X+Kw2FpWyrgBjoxBCm/FUGgMbmNNFwnojpe5MD9l0FurO4vde6UD+mSjj1AczBkKMjifSIviiacl+CskkYtGTJK0ljwZZ9/Grs8qg/cgdr8Ofu9vwWLG6wZluJTSxg0WR/M1sSU2OFiEKbFeHipsZdmoGY9cK211KXJoQUrB61EwEWZV6YvOHSIA2pMBO17qExV0DO/YaMca6MGSumnJoyL0G5ShjcXL5o4vKOs2WOVUaktEuO5dY4b1/EPq+Bq6My/Ce7ShgK9xpXACqg7F1+QQWk3Za/iO4QAYbmrAw0taQndzZGdEZ3Fq1KGdBOZD0As9uEv/IWY9ayn+2gFAnUUSVunpsBsg5ADumiyhd31cSw47o6VvZDb9ZzSQO3lC+1Jd9Vn95ut9gACylRAxE5YA6sSdlidFXQxZxcUUs8lvHUAECMqQIJziZf+NzzCnHo9jtszVjLxxwgTFj4HlC1Zb+tAB0F6lBuM1PPIzW0aMwRhxyPGbLFUlNegDKPmGWiETYYTr/Jf8gmr5ExcV+M44h6WYL02vZ5bXaPqIwyOxJAAFRgSaY8ABoRp1kGm7tVgQujDkR9CXUN2t6KM140QoWYFURsgf4lRGcmTqAGcFa020475AzbjnZQud1Hlbh1Rp/OriPrYMmojNiXq+cgvU4kCUA+H8PF+N6R9RfOw92e35i0pPEPP0XUEm6kBjzBml1Cm6zyLLiZS0/gIAYMcPb4ZHSP0BD7PmSsMhlAi68q1QF75AUAmTdQQHn9yVdwrt2uK2NOwC6yRjLoVXEiZSxAGc0SX5gV3MRkjNbT6Rds2fT4WtN6xIQDWOjNm7bPawBXALMmQ3bNswusv5iAiaBdALJJOUR7GtJExOXSyC4CYCFzEXqjJSW0e2xoA3S2SRFpoDIJ4AyZ2qiTC/cOA8jU0MvXQ4l/4rHH0XlEO2VygM4Rm4zCkP3H5zRWARYSR0M7Dl25A3xSD5Pz8DnXmqOqmG0LeBbQLK4xLzV9jTXv2YUANO8T+HmsuQ8kMkUPNONADY+JIER4zKdcab3aDvm80+RRGsxgQv6o986YgYVzWDl+xBV8itWWQicgm0mIl/ZUDE052HLsR6jpFVIGsATlMwY9OTt2n3tEZIDVQuLC0TcFIBtTng6mK7cmeDR1HKcZBzbG/Lid8Ni15Vf4Bo94xmM+4TGd8JhufGyHxsw5/rS6iH1eA89SKD9imYszkHjE5xIZQEsHyH+5uQNR/I6BhacaOtJVnWYAXqQonIZRxEiVfZJpRngYMAPCI6Rv2QIoaHhcwpA0ouhQgnFWh0Oy40wUmWN7JVXMtDjGRc7g+rjugJxsujj8FhJRYc532B5W9HAWSQ/DMeWp2dzRYUlNnTuOIBx6T1/F1DqmPpxY0qOwpRhzFTanX2HMYM/689/cYNFjH0tgju8GVsAc35fYXbDm1W2pdZGMOPYnHZpzsGRSc/TxYMoBypF6HUz54E6/iYekcfB07AwzLON7l+3z+uoiRjpimdc1M9TuJ+9rZk4+cpCyyAwALujHdnlttXoSoW8JomyiPz6AmbwYjOvWmXEVunKUIcTdjDneV6W4swUDlNVZjqIAs92igq/QEqSrxrxIJjmvi0GxrK0yRgFlvSvJRGNMd3seawQrLQsMHVRHQaMDdZzQvFYLQRx4pJTZnUu7p+6yhhKs/vKkHnlk01PF5h3DCx85aBKXfACXAeP3OZ3FuIIxAwOIy7b69yMBOME6al8Uppyasjn6iIp8wZ5M4kzZEnEsRO5ABsgN4qAcev3Q722cFY3Oz98uYp/XwH2cf6JA76AuUOrOhsVb3zAYAj0F87SmCeKxy5HRp01NytBSxYpdTvXUUTr4JGKCzih6mUd/BAtoA4iVSm1aDLDevpYyI8S1PCBZcrIUB95cXpYaGHwaX5bYTp35pEXKcFCO8LiTGnOe1eULBXWTMagrMNv4ort36C7n37xTi+c1hunKBwiO1CE4oRPbMlzmqBRgbc5KMtNEVhI2ygOcmiUhESl6iejprSUY64nTedwPY34hfuDL3EsgBhAlJq6OY/YL03rcvy+pNydQa6ZYgy2jL1Kt29QzIirkCytSJHhlOmWW37F1vNJOeMQzXmk3+LB2g0d8wmMyOeNAHY/phCN1HFyD3giUy+vd5/VVccz+8aoAtWB3MOauBoTBEoO1dmMFFss8Oi0YEfZuDxEmF7/ePkeiMpZ46FDEfKrAW/joYLsmNPsL+77XHzgzXd3W0pyIL8R5tlWw+i0pY7BnlyvmAtIFlAeLtj90Y8TU9WxMx3jjMmu+Mm17t8vGDg+LMDkdrPlAs1UjJPaSs9Z24Sm3xevMzgqYLGyOYNJaOJOV2AgIZMhlM+Wc92wqD4+jrLkcIXMUxGY9f6vR8jYZcuyHE7KAtP2paclRkGgyhkwOxq1F9IVpyo10kXp99NtHPOORg/D4mxdseR02x1vwvM9rAM+oMZu2LCAi67DQAStbqL4dscoFnFlHrQz21/L4ZwNjZ89ABuCzFrZMALyNGchC7GLiRVjeWdjQ5jX4QwKQlc61vGDM8aVIBg0H6cKSE4h1AdpnoBwRGa4t21gJIM6WoxPytRqzmiNxt4exCOtqJDhgRncw7mADZteaO4z1WVaV2ewtnVgYvQmYkDXGAZQ6MM26agtBiR2EfJVZQToKIOX81HNSsWVnGvMA4ABqo6S6uKU2WDK3nmnW02Q68tTEtWQZmnIB5QNFiNzQls8AmkYY4q22z2sA99CYI0KAPJxF2WeOONAG2BCZB3r2eMnCmFmLHMGmoxoYG0PORKC43wGaHHRVYGyb7LEGyjBQxiDLqLfVVpObYjtAOeOKV0vLEpMcwBzsmec1IA+QrqAcWX5rnblWk6Myzlcxh51ZPLd5yYhRAS0dgJU5G8B0YggRHrXZGjg4OM9qTq4TebVCFhA1sDPdkDVmAGCPjffi+ogooXA2VwUrgLrKbfW22poxF1AGMMCY1CItfDudex7dNE0jzfrQOhobQ06m7ABcQXmd5Wf1l2WMYRlXzoiMW2yf1/coYiQ6wuW8c68C1k7dK7AQE7grVGyqUx/acLBgafDjIy2UJ824Sm7jeMoc8asf2UvAwrmx0NbuA8yFIQNIb3BqyoVFL518I32WKnv2H6Rw9oWmnPfduJ4sarezALOYtjx3E9sjXE5Kt4rNDwX2/N2eyxpRgoYx5DFxPoyfgiF4oooP00jVtrC5I89eKtYiEaKhwoEPljk6WZ2Vp70tskm7ktdccZnDgVmEE6SHUxoDuIFzgK6W895lkMqYgewyAoraFsiOLK2NRqrBjokUjzxOeSI79ridLPqCJDXlKIb/hvY09WTTl29KuNzJw+U8koNs3Ddtn9cArupgIuNWV8vtCJ0TMcfZLMDEwCwgdt03OgAzACX3gFPWeFXX1hKMNUCanCEXYC7yRba5SYZQzvkKKQPIObzBmAc7XgKzJmgvIjFK4kgyaNGFpmyyxwBl05hlGSKXf7Ic9w0jKOiuJJTdbrVGQ0qrrK6H1gx1h6Dpp1HD9uRNgiOLTZTAXkQLAGZuaMLoNHpZBouelNBFMDNnYpMBsw6glhFbD2AFzrdcUIBwgLIfomDGDsRLYLbU6eb3H0oY3JEdmD155HELIJbUlCe2FUUF5SPNOFLPOtd8xprL+J9dwsub10T0uQC+EfZJzwC+SlV/4h7PJ1i3+LcD+E0AX6yqP1PufxOAnwfwPlX9itte6/qefy00MfEGkWQRGuKlikjcqWHgzF1y0jkWDxYMDFD2rg5ZdMWZNUg9WgObmUzx6S7iNXMEbrmWNTArBkBvArPpe9zH8aE/11TrC/JF1ZSDKYtNPgpwDn3ZNeeSAXPrdezM4vmNyy2T4oCendcPVkQZHaY3Rzz9Yz6hqeCE5s2ACSwts9tmFczEmLmBuqKzFclqZKUDRAmtt1UGquR2RjHl92dM6NsWURXnRldvewInMI+i9pEpO7URb3xoo+GEseMRDveoWZ3lA3e80m4yzjsLPm04/45Uw+d0Md6b9nLn9Y8A+EFVVSL6fQC+H8DvvcfzPxPAx/rfHwTwnX4b9o0A/pdrXujqDibaxeMwZeBeU+BElgkYiMvmBFSJbg4ENAJ19lAdAk/e9sa9w9bqRgHybgoht2UXBl0CcIA0sGTMZWLq1q9xndUVkKuUoSvA1pA2NPcNpAcQD2ehegicPZadGVdQtn0BnTqQ8kU3UO7dVx/dMipvlTLUnrfbc1kD4ejOhoOKzyHrH9mZcNKeTX1POirPnbThxC2PWRccxqvtaJ1uxErIRosyq/E9ZWJK1gIPMI5tWD0YoNR3UVrIrqobc7uEiHIF5EiFZvHcrdH1u9ZOju0jzxaF4UBsxYiMRb/CN8auIfiwAOYCykeXKz6cn6Z8YbfGsg8QHAg4Em33+7OLe2nzWlV/vex+OAqNI6L/DMB/DOt7+T5V/fqNl/hcAN+jpkH+FBF9BBH9TlX950T0ibBu8X8HwJ0d6e/f808cqdw5ReLhcrPHNjfXJdwJaEzbgvdDtvCw5ZQqwnOnTrw1HHp9CcjRjeFMwtiUMzZA7TYZo24HG67A7E662I6uEjxrYdjVyWcgDY++oGACMmKW0+FXy6puOT4uAPQeiP/sRhvA0EghqhCXM5oqOgSPyWKboxiPEGVoHRfQPrlLq4Mxk2SoaDRlmLzpsBTgjv0uvNgHkIANDJAGbpeYgQHGAcCxne2eWBb7UwHmYMQMXQIzTL4IhlzZcYPgMd34KsNilqOF1ELG2PhOto3Sny9zXhPR5wH4CwD+NQCf5cc+A8aCPwk21D9IRJ+iqj++evpbAPyzsv/LAN5CRP83gP8awBcB+LRrzuPuWhm+7M5CyypZDQ6AAQ0cNF3WUH+8FWMx5mthF2odHZSTBWsjsGt3GfyeQIwCxM6qsSFfJDDTYn/7gvwhGS8c+1iAdAXilDB0yY5RteRk086KFQbILleYauWasjhAy9geLDmcf3Zcb4tjnnfG/DzGYDCR68UeXxseYAVOKWUIDlY+DkwCgTX0zfAvBg7acSKXNpTQ2Rj0RB2ztnQWWs/Jc2CevYjMGpwrSMf9l6/HdeUVW64gDGABxJUR1+2JolN4ZEFq6shMgsde+yKaIT/mkztQZ49ftu0jPCMwATpkI7ocx/yw8/rNRPSBsv8eVX3PpQer6vsAvI+IPgUmPXw6gM/wv5/1h70BBtRrYL4UcvDlAP62qv4zuuT0XNn1URmq0N6tZkTzaMRI02aLyIAotLHl/Ts4W91kgk6c4E4Th1fC45Op6Mh+zGWQBfiu9eYyFAbKlRJfGKJiZ+C80pUraAezze14XIJyMOjhICXfziSSYMk1u08EOs++3R2g7XG3RmUAd1eg2+1Oa7BuNiDgERQny+hIELuhDlFGY8WNGmc+Us/u6h2MJ3KweGclPNGDdWKHdcaJTuzBmuNx0QgYQPagNP2Zx3GfxH0lXYieA9q6a0+w07iOqPRW2z3F8axpgcGWG9W0anUwPuXjDIhlALOz5GMwZhIcIXjkkRgHKA4EHFzGuChlAA89rz+kqhelAyJ6J4Av8923q+qvAoCq/jgR/ZtE9GYYmvwFVf0rtz0XxpA/ujzkrQB+FcAnA/j3iOjLYaB+JKJfV9X//NJ53a/sJ/OQMtABtKEHeVAxqWnFamcOClnDj8MZSoAyMXnNAN+P9utEmS04HH4GvsGg423tMWvU3biGNc5VtgwMhgwkCA/QVoxWWgOMK2BXMF4AsuvF5MBcjw2AjtuQNO6YnKrAPN/+mN2uMvbojAb1tk8KEHDwIhedFB0mXwQodiI0nYw5s/Wr7B51FJ3XE5gdpDuNLu0nHd3gA6zrfmzb7RKIt1jzuodeBV4AyXrjWN0PcA1ADjCu9S6YFI/pJkt6xnOCHQcY533QTL8+wEPk4BXlbmONL3heq+q7AbwbAIjo3yIicuffHwBwBPAvAbwfwDcS0X+rqr9ORG8BcKrP9ef/IICvIKL3wpx+/5+q/nMA7yiP+WIAb7sNlIFrw+XEQttsziqoOyijhzw8XMLNgJjmIW8YQDcH4wHe8RxqNNgz+2Mqo47X5nO54ir54uK1+VPPZA3N+gQVhJMl1+JDrodl2FvXsV2AOGWLAOVgxV0GKPeeLDmLGF2ql6HYpYznNEYspwUC9fA5jYmesoaVppwNZP1YB+GADiHGEz2gKztYe+SFg+uNTgugTpCOWwfdAOzYBjD2N5x9d15bAHJew9hfbNNSC65AfHQph70mdYBwZcgtQXxOMD/kMUlQPmCExzUf97OSn8DLntf/EYA/SUQnAK8C+Hx35P0QEX0cgJ90KeLXAXwhgA+unv+3Ycz5F2Dhcv/Js57IPTqYtARZZTZwdpasHQC7OyVAt6mlMzsAqx8nL4UIwFkywbtR5j55NblFmnUAdpxTMuUVc76HVaZst/U+TUfcAGbXlTMGEEsgBhap1bROs459sTDDBF5nzVr05zHuF2yPyngQa2QRD6E1x+rOlDmXNdSkjgZjznHbycDWHIIGtievOtcdfA+5T6lNB0MezJgXiS3JyrHNmK+xs7oUReoIALbt2hBAEoQBLIC47odkMarHabJkCzmMYvkmXzQf59CWY9w37eVGZXwLgG+5cN93wGKUb3u+AnjnHY/5mwD+5l3ncp3GLApChxIn+KZUYbPaHte8mAWxAfWCFUeFfIp4Hnu+HwvZoj4nHxtWj6Ow5WrXzOENvDvrtVf1XdHlcd+mreP1WMo8AboOxHXyiaambPuSTsCLjj970Z0xP4AxGAeCg7KB8YEIPZJN3CN8UoGQgWVXa9AawHkqQBoguwW6pjWPx/YCuHl8BcrVrgHorQ7xrTBku+YC0jTqVwQDjudU8K6sGoDVC4nHYdRcZgCHWDxjaMp2boQDmoP0pWvZ5zVw7yJGFgSP7qFxzA4qzoDjcQ7MQ2aw2p60AFwe25UJM50BcI2c1wLUFz2cd2lYdxxftLbZAuz1/QVUY/tMiljta5flc0SGs+82ppzvCxv73R7EjDkTmoNyaHSjpoN9NuJgHZ+QSRoy5AcqXdhB6GUuLkC6ADfKa+X2BRCWW5gHbzEODEAGlr32KvDGfWtmPRh32S5AbPte19qfd/RrtoxK05QDnC8y5bB9XgO4SmNWAOL1LwBCB7yMYQJ0gFE4COEgvGC7XJx5BbCBfBxtAHECuB9ffKxXhp5cZWvAXjBmOTueICorMK3HK8DW2her7D5dPUfra972Q7I7/57LGnmlLIeUAwHd57uxOotrBpBNdQDzrAzoUAhpuBrsMYTCkl2O8MiPpWRByWbWDHmLMT/zda4cg0tw1rPjQ4PW1XF/HC0XpiFVxGMqQ85t8IIpM2gzhnmf12ZXZ/7FtDTJrCeoKiyyYmG08hGv7j9jujxea/XA28+L717aXW3XREFc8byzELe1HLFiwwu5Ys2UbwuXU4We9gn8vDbAGWA0TGSsOExW0kAP52Dcv2KpfTWLJT/D5e36cWt7yICxu74ll0LXeAWc68et5Yg1G673rx19m6AM7PPa7Xop44xRFs4QqXxpty9F9NKH8gx29qPwDHa7lnvvF7vHY5/9fRX7ku+hbA0SbbXXy2c63THdZA24zzE916D/LHZZy32W17r+Yi4C7x22z2szui2JgYj+BYBfenGns9st9m+o6kfFDhH9HQBvfqDX/pCq/rEHeq3fErbP7deV5dx+4HkN/Bad27cC82677bbbbi/eHlCk3W233Xbb7SFsB+bddtttt9eZ7cC822677fY6sx2Yd9ttt91eZ7YD82677bbb68x2YN5tt912e53ZDsy77bbbbq8z24F5t9122+11Zjsw77bbbru9zuz/B+NHUBsoSySWAAAAAElFTkSuQmCC\n",
=======
      "image/png": "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\n",
>>>>>>> 1b60335a5d53c6e3e2de1bb1a140303f0bf8f351
      "text/plain": [
       "<Figure size 432x288 with 8 Axes>"
      ]
     },
     "metadata": {
      "needs_background": "light"
     },
     "output_type": "display_data"
    }
   ],
   "source": [
    "import numpy as np\n",
    "import sympy as sp\n",
    "import pylab as plt\n",
    "%matplotlib inline\n",
    "from mpl_toolkits.axes_grid1 import make_axes_locatable\n",
    "import pylbm\n",
    "\n",
    "u, X, Y = sp.symbols('u, X, Y')\n",
    "\n",
    "def solution(x, y, t, k, l):\n",
    "    return np.sin(k*np.pi*x)*np.sin(l*np.pi*y)*np.exp(-(k**2+l**2)*np.pi**2*mu*t)\n",
    "\n",
    "def plot(i, j, z, title):\n",
    "    im = axarr[i,j].imshow(z)\n",
    "    divider = make_axes_locatable(axarr[i, j])\n",
    "    cax = divider.append_axes(\"right\", size=\"20%\", pad=0.05)\n",
    "    cbar = plt.colorbar(im, cax=cax, format='%6.0e')\n",
    "    axarr[i, j].xaxis.set_visible(False)\n",
    "    axarr[i, j].yaxis.set_visible(False)\n",
    "    axarr[i, j].set_title(title)\n",
    "\n",
    "# parameters\n",
    "xmin, xmax, ymin, ymax = 0., 1., 0., 1.\n",
    "N = 128\n",
    "mu = 1.\n",
    "Tf = .1\n",
    "dx = (xmax-xmin)/N # spatial step\n",
    "s1 = 2./(1+4*mu)\n",
    "s2 = 1.\n",
    "k, l = 1, 1 # number of the wave\n",
    "\n",
    "dico = {\n",
    "    'box': {'x':[xmin, xmax], \n",
    "            'y':[ymin, ymax], \n",
    "            'label': 0},\n",
    "    'space_step': dx,\n",
<<<<<<< HEAD
    "    'scheme_velocity': la,\n",
=======
    "    'lattice_diffusivity': 1,\n",
>>>>>>> 1b60335a5d53c6e3e2de1bb1a140303f0bf8f351
    "    'schemes':[\n",
    "        {\n",
    "            'velocities': list(range(5)),\n",
    "            'conserved_moments': u,\n",
<<<<<<< HEAD
    "            'polynomials': [1, X/LA, Y/LA, (X**2+Y**2)/(2*LA**2), (X**2-Y**2)/(2*LA**2)],\n",
    "            'equilibrium': [u, 0., 0., .5*u, 0.],\n",
=======
    "            'polynomials': [1, X, Y, (X**2+Y**2)/2, (X**2-Y**2)/2],\n",
    "            'equilibrium': [u, 0, 0, u/2, 0],\n",
>>>>>>> 1b60335a5d53c6e3e2de1bb1a140303f0bf8f351
    "            'relaxation_parameters': [0., s1, s1, s2, s2],\n",
    "        }\n",
    "    ],\n",
    "    'init': {u: (solution, (0., k, l))},\n",
    "    'boundary_conditions': {\n",
    "        0: {'method': {0: pylbm.bc.AntiBounceBack,}},\n",
    "    },\n",
    "    'generator': 'cython',\n",
<<<<<<< HEAD
    "    'parameters': {LA: la},    \n",
=======
>>>>>>> 1b60335a5d53c6e3e2de1bb1a140303f0bf8f351
    "}\n",
    "\n",
    "sol = pylbm.Simulation(dico)\n",
    "x = sol.domain.x\n",
    "y = sol.domain.y\n",
    "\n",
    "f, axarr = plt.subplots(2, 2)\n",
    "f.suptitle('Heat equation', fontsize=20)\n",
    "\n",
    "plot(0, 0, sol.m[u].copy(), 'initial')\n",
    "\n",
    "while sol.t < Tf:\n",
    "    sol.one_time_step()\n",
    "\n",
    "sol.f2m()\n",
    "z = sol.m[u]\n",
    "ze = solution(x[:, np.newaxis], y[np.newaxis, :], sol.t, k, l)\n",
    "plot(1, 0, z, 'final')\n",
    "plot(0, 1, ze, 'exact')\n",
    "plot(1, 1, z-ze, 'error')\n",
    "\n",
    "plt.show()"
   ]
<<<<<<< HEAD
=======
  },
  {
   "cell_type": "code",
   "execution_count": null,
   "metadata": {},
   "outputs": [],
   "source": []
>>>>>>> 1b60335a5d53c6e3e2de1bb1a140303f0bf8f351
  }
 ],
 "metadata": {
  "anaconda-cloud": {},
  "kernelspec": {
   "display_name": "Python 3",
   "language": "python",
   "name": "python3"
  },
  "language_info": {
   "codemirror_mode": {
    "name": "ipython",
    "version": 3
   },
   "file_extension": ".py",
   "mimetype": "text/x-python",
   "name": "python",
   "nbconvert_exporter": "python",
   "pygments_lexer": "ipython3",
<<<<<<< HEAD
   "version": "3.6.7"
=======
   "version": "3.6.8"
>>>>>>> 1b60335a5d53c6e3e2de1bb1a140303f0bf8f351
  }
 },
 "nbformat": 4,
 "nbformat_minor": 1
}
